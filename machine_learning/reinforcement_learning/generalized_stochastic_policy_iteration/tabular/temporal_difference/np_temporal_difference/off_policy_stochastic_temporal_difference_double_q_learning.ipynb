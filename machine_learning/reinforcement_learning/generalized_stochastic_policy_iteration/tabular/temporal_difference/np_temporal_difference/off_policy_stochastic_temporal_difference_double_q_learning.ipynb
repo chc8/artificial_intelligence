{
 "cells": [
  {
   "cell_type": "code",
   "execution_count": 101,
   "metadata": {},
   "outputs": [],
   "source": [
    "import numpy as np"
   ]
  },
  {
   "cell_type": "markdown",
   "metadata": {},
   "source": [
    "# Create environment"
   ]
  },
  {
   "cell_type": "code",
   "execution_count": 102,
   "metadata": {},
   "outputs": [],
   "source": [
    "number_of_states = 16\n",
    "number_of_terminal_states = 2\n",
    "number_of_non_terminal_states = number_of_states - number_of_terminal_states"
   ]
  },
  {
   "cell_type": "code",
   "execution_count": 103,
   "metadata": {},
   "outputs": [],
   "source": [
    "max_number_of_actions = 4"
   ]
  },
  {
   "cell_type": "code",
   "execution_count": 104,
   "metadata": {},
   "outputs": [],
   "source": [
    "number_of_actions_per_non_terminal_state = np.repeat(a = max_number_of_actions, repeats = number_of_non_terminal_states)"
   ]
  },
  {
   "cell_type": "code",
   "execution_count": 105,
   "metadata": {},
   "outputs": [],
   "source": [
    "number_of_state_action_successor_states = np.repeat(a = 1, repeats = number_of_states * max_number_of_actions)"
   ]
  },
  {
   "cell_type": "code",
   "execution_count": 106,
   "metadata": {},
   "outputs": [],
   "source": [
    "number_of_state_action_successor_states = np.reshape(a = number_of_state_action_successor_states, newshape = (number_of_states, max_number_of_actions))"
   ]
  },
  {
   "cell_type": "code",
   "execution_count": 107,
   "metadata": {},
   "outputs": [],
   "source": [
    "state_action_successor_state_indices = np.array([1, 0, 14, 4, 2, 1, 0, 5, 2, 2, 1, 6, 4, 14, 3, 7, 5, 0, 3, 8, 6, 1, 4, 9, 6, 2, 5, 10, 8, 3, 7, 11, 9, 4, 7, 12, 10, 5, 8, 13, 10, 6, 9, 15, 12, 7, 11, 11, 13, 8, 11, 12, 15, 9, 12, 13], dtype = np.int64)"
   ]
  },
  {
   "cell_type": "code",
   "execution_count": 108,
   "metadata": {},
   "outputs": [],
   "source": [
    "state_action_successor_state_transition_probabilities = np.repeat(a = 1.0, repeats = number_of_non_terminal_states * max_number_of_actions * 1)"
   ]
  },
  {
   "cell_type": "code",
   "execution_count": 109,
   "metadata": {},
   "outputs": [],
   "source": [
    "state_action_successor_state_rewards = np.repeat(a = -1.0, repeats = number_of_non_terminal_states * max_number_of_actions * 1)"
   ]
  },
  {
   "cell_type": "code",
   "execution_count": 110,
   "metadata": {},
   "outputs": [],
   "source": [
    "state_action_successor_state_indices = np.reshape(a = state_action_successor_state_indices, newshape = (number_of_non_terminal_states, max_number_of_actions, 1))\n",
    "state_action_successor_state_transition_probabilities = np.reshape(a = state_action_successor_state_transition_probabilities, newshape = (number_of_non_terminal_states, max_number_of_actions, 1))\n",
    "state_action_successor_state_rewards = np.reshape(a = state_action_successor_state_rewards, newshape = (number_of_non_terminal_states, max_number_of_actions, 1))"
   ]
  },
  {
   "cell_type": "markdown",
   "metadata": {},
   "source": [
    "# Set hyperparameters"
   ]
  },
  {
   "cell_type": "code",
   "execution_count": 111,
   "metadata": {},
   "outputs": [],
   "source": [
    "# Set the number of episodes\n",
    "number_of_episodes = 800000\n",
    "# Set the maximum episode length\n",
    "maximum_episode_length = 200\n",
    "# Set learning rate alpha\n",
    "alpha = 0.001\n",
    "# Set epsilon for our epsilon level of exploration\n",
    "epsilon = 0.05\n",
    "# Set discounting factor gamma\n",
    "discounting_factor_gamma = 1.0"
   ]
  },
  {
   "cell_type": "markdown",
   "metadata": {},
   "source": [
    "# Create value function and policy arrays"
   ]
  },
  {
   "cell_type": "code",
   "execution_count": 112,
   "metadata": {},
   "outputs": [],
   "source": [
    "state_action_value_function1 = np.repeat(a = 0.0, repeats = number_of_states * max_number_of_actions)\n",
    "state_action_value_function1 = np.reshape(a = state_action_value_function1, newshape = (number_of_states, max_number_of_actions))\n",
    "\n",
    "state_action_value_function2 = np.repeat(a = 0.0, repeats = number_of_states * max_number_of_actions)\n",
    "state_action_value_function2 = np.reshape(a = state_action_value_function2, newshape = (number_of_states, max_number_of_actions))"
   ]
  },
  {
   "cell_type": "code",
   "execution_count": 113,
   "metadata": {},
   "outputs": [],
   "source": [
    "policy = np.repeat(a = 1.0 / max_number_of_actions, repeats = number_of_non_terminal_states * max_number_of_actions)\n",
    "policy = np.reshape(a = policy, newshape = (number_of_non_terminal_states, max_number_of_actions))"
   ]
  },
  {
   "cell_type": "markdown",
   "metadata": {},
   "source": [
    "# Create algorithm"
   ]
  },
  {
   "cell_type": "code",
   "execution_count": 114,
   "metadata": {},
   "outputs": [],
   "source": [
    "# Set random seed so that everything is reproducible\n",
    "np.random.seed(seed = 0)"
   ]
  },
  {
   "cell_type": "code",
   "execution_count": 115,
   "metadata": {},
   "outputs": [],
   "source": [
    "# This function initializes episodes\n",
    "def initialize_epsiode(number_of_non_terminal_states):\n",
    "    # Initial state\n",
    "    initial_state_index = np.random.randint(low = 0, high = number_of_non_terminal_states, dtype = np.int64) # randomly choose an initial state from all non-terminal states\n",
    "\n",
    "    return initial_state_index"
   ]
  },
  {
   "cell_type": "code",
   "execution_count": 116,
   "metadata": {},
   "outputs": [],
   "source": [
    "# This function selects a policy greedily from the state-action-value function\n",
    "def epsilon_greedy_policy_from_state_action_function(max_number_of_actions, state_action_value_function1, state_action_value_function2, epsilon, state_index, policy):\n",
    "    # Combine state-action value functions\n",
    "    state_action_value_function = state_action_value_function1[state_index, :] + state_action_value_function2[state_index, :]\n",
    "    \n",
    "    # Save max state-action value and find the number of actions that have the same max state-action value\n",
    "    max_action_value = np.max(a = state_action_value_function)\n",
    "    max_action_count = np.count_nonzero(a = state_action_value_function == max_action_value)\n",
    "\n",
    "    # Apportion policy probability across ties equally for state-action pairs that have the same value and zero otherwise\n",
    "    if max_action_count == max_number_of_actions:\n",
    "        max_policy_apportioned_probability_per_action = 1.0 / max_action_count\n",
    "        remaining_apportioned_probability_per_action = 0.0\n",
    "    else:\n",
    "        max_policy_apportioned_probability_per_action = (1.0 - epsilon) / max_action_count\n",
    "        remaining_apportioned_probability_per_action = epsilon / (max_number_of_actions - max_action_count)\n",
    "\n",
    "    policy[state_index, :] = np.where(state_action_value_function == max_action_value, max_policy_apportioned_probability_per_action, remaining_apportioned_probability_per_action)\n",
    "\n",
    "    return policy"
   ]
  },
  {
   "cell_type": "code",
   "execution_count": 117,
   "metadata": {},
   "outputs": [],
   "source": [
    "# This function loops through episodes and updates the policy\n",
    "def loop_through_episode(number_of_non_terminal_states, max_number_of_actions, number_of_state_action_successor_states, state_action_successor_state_indices, state_action_successor_state_transition_probabilities, state_action_successor_state_rewards, state_action_value_function1, state_action_value_function2, policy, alpha, epsilon, discounting_factor_gamma, maximum_episode_length, state_index):\n",
    "    # Loop through episode steps until termination\n",
    "    for t in range(0, maximum_episode_length):\n",
    "        # Choose policy for chosen state by epsilon-greedy choosing from the state-action-value function\n",
    "        policy = epsilon_greedy_policy_from_state_action_function(max_number_of_actions, state_action_value_function1, state_action_value_function2, epsilon, state_index, policy)\n",
    "\n",
    "        # Get epsilon-greedy action\n",
    "        action_index = np.random.choice(a = max_number_of_actions, p = policy[state_index, :])\n",
    "        \n",
    "        # Get reward\n",
    "        successor_state_transition_index = np.random.choice(a = number_of_state_action_successor_states[state_index, action_index], p = state_action_successor_state_transition_probabilities[state_index, action_index, :])\n",
    "\n",
    "        reward = state_action_successor_state_rewards[state_index, action_index, successor_state_transition_index]\n",
    "\n",
    "        # Get next state\n",
    "        next_state_index = state_action_successor_state_indices[state_index, action_index, successor_state_transition_index]\n",
    "        \n",
    "        # Update state action value equally randomly selecting from the state-action-value functions\n",
    "        if (np.random.randint(low = 0, high = 2, dtype = np.int64) == 0):\n",
    "            state_action_value_function1, state_action_value_function2, policy, state_index = update_state_action_value_function(number_of_non_terminal_states, max_number_of_actions, state_action_value_function2, policy, alpha, epsilon, discounting_factor_gamma, state_index, action_index, reward, next_state_index, state_action_value_function1);\n",
    "        else:\n",
    "            state_action_value_function2, state_action_value_function1, policy, state_index = update_state_action_value_function(number_of_non_terminal_states, max_number_of_actions, state_action_value_function1, policy, alpha, epsilon, discounting_factor_gamma, state_index, action_index, reward, next_state_index, state_action_value_function2);\n",
    "\n",
    "        if next_state_index >= number_of_non_terminal_states:\n",
    "            break; # episode terminated since we ended up in a terminal state\n",
    "\n",
    "    return state_action_value_function1, state_action_value_function2, policy"
   ]
  },
  {
   "cell_type": "code",
   "execution_count": 118,
   "metadata": {},
   "outputs": [],
   "source": [
    "# This function updates the state-action-value function\n",
    "def update_state_action_value_function(number_of_non_terminal_states, max_number_of_actions, not_updating_state_action_value_function, policy, alpha, epsilon, discounting_factor_gamma, state_index, action_index, reward, next_state_index, updating_state_action_value_function):\n",
    "    # Check to see if we actioned into a terminal state\n",
    "    if next_state_index >= number_of_non_terminal_states:\n",
    "        updating_state_action_value_function[state_index, action_index] += alpha * (reward - updating_state_action_value_function[state_index, action_index])\n",
    "    else:\n",
    "        # Get next action, max action of next state\n",
    "        max_action_value = np.max(a = updating_state_action_value_function[state_index, :])\n",
    "        max_action_stack = np.extract(condition = updating_state_action_value_function[state_index, :] == max_action_value, arr = np.arange(max_number_of_actions))\n",
    "\n",
    "        next_action_index = np.random.choice(a = max_action_stack)\n",
    "\n",
    "        # Calculate state-action-function expectation\n",
    "        updating_state_action_value_function[state_index, action_index] += alpha * (reward + discounting_factor_gamma * not_updating_state_action_value_function[next_state_index, next_action_index] - updating_state_action_value_function[state_index, action_index])\n",
    "\n",
    "        # Update state and action to next state and action\n",
    "        state_index = next_state_index\n",
    "        \n",
    "    return updating_state_action_value_function, not_updating_state_action_value_function, policy, state_index"
   ]
  },
  {
   "cell_type": "code",
   "execution_count": 119,
   "metadata": {},
   "outputs": [],
   "source": [
    "def off_policy_temporal_difference_double_q_learning(number_of_non_terminal_states, max_number_of_actions, number_of_state_action_successor_states, state_action_successor_state_indices, state_action_successor_state_transition_probabilities, state_action_successor_state_rewards, state_action_value_function1, state_action_value_function2, policy, alpha, epsilon, discounting_factor_gamma, maximum_episode_length):\n",
    "    for episode in range(0, number_of_episodes):\n",
    "        # Initialize episode to get initial state\n",
    "        initial_state_index = initialize_epsiode(number_of_non_terminal_states)\n",
    "\n",
    "        # Loop through episode and update the policy\n",
    "        state_action_value_function1, state_action_value_function2, policy = loop_through_episode(number_of_non_terminal_states, max_number_of_actions, number_of_state_action_successor_states, state_action_successor_state_indices, state_action_successor_state_transition_probabilities, state_action_successor_state_rewards, state_action_value_function1, state_action_value_function2, policy, alpha, epsilon, discounting_factor_gamma, maximum_episode_length, initial_state_index)\n",
    "    \n",
    "    return state_action_value_function1, state_action_value_function2, policy"
   ]
  },
  {
   "cell_type": "markdown",
   "metadata": {},
   "source": [
    "# Run algorithm"
   ]
  },
  {
   "cell_type": "code",
   "execution_count": 120,
   "metadata": {},
   "outputs": [
    {
     "name": "stdout",
     "output_type": "stream",
     "text": [
      "\n",
      "Initial state-action value function1\n",
      "[[0. 0. 0. 0.]\n",
      " [0. 0. 0. 0.]\n",
      " [0. 0. 0. 0.]\n",
      " [0. 0. 0. 0.]\n",
      " [0. 0. 0. 0.]\n",
      " [0. 0. 0. 0.]\n",
      " [0. 0. 0. 0.]\n",
      " [0. 0. 0. 0.]\n",
      " [0. 0. 0. 0.]\n",
      " [0. 0. 0. 0.]\n",
      " [0. 0. 0. 0.]\n",
      " [0. 0. 0. 0.]\n",
      " [0. 0. 0. 0.]\n",
      " [0. 0. 0. 0.]\n",
      " [0. 0. 0. 0.]\n",
      " [0. 0. 0. 0.]]\n",
      "\n",
      "Initial state-action value function2\n",
      "[[0. 0. 0. 0.]\n",
      " [0. 0. 0. 0.]\n",
      " [0. 0. 0. 0.]\n",
      " [0. 0. 0. 0.]\n",
      " [0. 0. 0. 0.]\n",
      " [0. 0. 0. 0.]\n",
      " [0. 0. 0. 0.]\n",
      " [0. 0. 0. 0.]\n",
      " [0. 0. 0. 0.]\n",
      " [0. 0. 0. 0.]\n",
      " [0. 0. 0. 0.]\n",
      " [0. 0. 0. 0.]\n",
      " [0. 0. 0. 0.]\n",
      " [0. 0. 0. 0.]\n",
      " [0. 0. 0. 0.]\n",
      " [0. 0. 0. 0.]]\n",
      "\n",
      "Initial policy\n",
      "[[0.25 0.25 0.25 0.25]\n",
      " [0.25 0.25 0.25 0.25]\n",
      " [0.25 0.25 0.25 0.25]\n",
      " [0.25 0.25 0.25 0.25]\n",
      " [0.25 0.25 0.25 0.25]\n",
      " [0.25 0.25 0.25 0.25]\n",
      " [0.25 0.25 0.25 0.25]\n",
      " [0.25 0.25 0.25 0.25]\n",
      " [0.25 0.25 0.25 0.25]\n",
      " [0.25 0.25 0.25 0.25]\n",
      " [0.25 0.25 0.25 0.25]\n",
      " [0.25 0.25 0.25 0.25]\n",
      " [0.25 0.25 0.25 0.25]\n",
      " [0.25 0.25 0.25 0.25]]\n",
      "\n",
      "Final state-action value function1\n",
      "[[-2.57794503 -1.75697728 -1.         -3.36596524]\n",
      " [-3.49174089 -2.70345173 -2.         -3.38146448]\n",
      " [-3.86141776 -3.8149602  -2.99999991 -4.23931963]\n",
      " [-3.7908568  -1.         -1.84453511 -2.68290939]\n",
      " [-3.26237273 -2.44807346 -2.4481094  -3.33483529]\n",
      " [-3.43056059 -4.14976684 -4.14968668 -3.43093636]\n",
      " [-2.81069033 -3.1876107  -3.48645156 -2.        ]\n",
      " [-3.40286694 -2.         -2.66678927 -3.63865616]\n",
      " [-3.42840658 -4.16331618 -4.16313012 -3.4283682 ]\n",
      " [-3.60272368 -3.31061693 -3.28891609 -3.59347622]\n",
      " [-1.80681111 -2.94591073 -2.93069146 -1.        ]\n",
      " [-4.26372465 -2.99999995 -3.84967965 -3.82525807]\n",
      " [-2.         -3.51610668 -3.24948329 -2.75756735]\n",
      " [-1.         -2.91555022 -2.71965684 -1.80533453]\n",
      " [ 0.          0.          0.          0.        ]\n",
      " [ 0.          0.          0.          0.        ]]\n",
      "\n",
      "Final state-action value function2\n",
      "[[-2.67048248 -1.76620513 -1.         -2.82132167]\n",
      " [-3.18272841 -2.71317401 -2.         -3.52327669]\n",
      " [-3.69305644 -3.70541255 -4.23968843 -3.00038506]\n",
      " [-3.00691913 -1.         -1.84812743 -2.73488187]\n",
      " [-3.28120442 -3.66861998 -3.66726201 -3.27328248]\n",
      " [-4.16404596 -3.44539556 -3.44558003 -4.16424346]\n",
      " [-2.79563878 -3.43834438 -3.3032966  -2.00010334]\n",
      " [-3.52353755 -2.         -2.67247631 -3.1795968 ]\n",
      " [-4.1843005  -3.44931305 -3.44946009 -4.18439779]\n",
      " [-2.42808058 -3.35525162 -3.30164323 -2.42825681]\n",
      " [-1.81804207 -2.63443789 -3.55507351 -1.        ]\n",
      " [-3.00017381 -4.26396803 -3.71599213 -3.72346448]\n",
      " [-2.         -3.32180402 -3.51115652 -2.73783361]\n",
      " [-1.         -3.56949115 -2.61638176 -1.81278053]\n",
      " [ 0.          0.          0.          0.        ]\n",
      " [ 0.          0.          0.          0.        ]]\n",
      "\n",
      "Final policy\n",
      "[[0.01666667 0.01666667 0.95       0.01666667]\n",
      " [0.01666667 0.01666667 0.95       0.01666667]\n",
      " [0.01666667 0.01666667 0.95       0.01666667]\n",
      " [0.01666667 0.95       0.01666667 0.01666667]\n",
      " [0.01666667 0.01666667 0.95       0.01666667]\n",
      " [0.95       0.01666667 0.01666667 0.01666667]\n",
      " [0.01666667 0.01666667 0.01666667 0.95      ]\n",
      " [0.01666667 0.95       0.01666667 0.01666667]\n",
      " [0.01666667 0.01666667 0.95       0.01666667]\n",
      " [0.01666667 0.01666667 0.01666667 0.95      ]\n",
      " [0.01666667 0.01666667 0.01666667 0.95      ]\n",
      " [0.95       0.01666667 0.01666667 0.01666667]\n",
      " [0.95       0.01666667 0.01666667 0.01666667]\n",
      " [0.95       0.01666667 0.01666667 0.01666667]]\n"
     ]
    }
   ],
   "source": [
    "# Print initial arrays\n",
    "print(\"\\nInitial state-action value function1\")\n",
    "print(state_action_value_function1)\n",
    "\n",
    "print(\"\\nInitial state-action value function2\")\n",
    "print(state_action_value_function2)\n",
    "\n",
    "print(\"\\nInitial policy\")\n",
    "print(policy)\n",
    "\n",
    "# Run off policy temporal difference double q learning\n",
    "state_action_value_function1, state_action_value_function2, policy = off_policy_temporal_difference_double_q_learning(number_of_non_terminal_states, max_number_of_actions, number_of_state_action_successor_states, state_action_successor_state_indices, state_action_successor_state_transition_probabilities, state_action_successor_state_rewards, state_action_value_function1, state_action_value_function2, policy, alpha, epsilon, discounting_factor_gamma, maximum_episode_length)\n",
    "\n",
    "# Print final results\n",
    "print(\"\\nFinal state-action value function1\")\n",
    "print(state_action_value_function1)\n",
    "\n",
    "print(\"\\nFinal state-action value function2\")\n",
    "print(state_action_value_function2)\n",
    "\n",
    "print(\"\\nFinal policy\")\n",
    "print(policy)"
   ]
  }
 ],
 "metadata": {
  "kernelspec": {
   "display_name": "Python 3",
   "language": "python",
   "name": "python3"
  },
  "language_info": {
   "codemirror_mode": {
    "name": "ipython",
    "version": 3
   },
   "file_extension": ".py",
   "mimetype": "text/x-python",
   "name": "python",
   "nbconvert_exporter": "python",
   "pygments_lexer": "ipython3",
   "version": "3.6.6"
  }
 },
 "nbformat": 4,
 "nbformat_minor": 2
}
