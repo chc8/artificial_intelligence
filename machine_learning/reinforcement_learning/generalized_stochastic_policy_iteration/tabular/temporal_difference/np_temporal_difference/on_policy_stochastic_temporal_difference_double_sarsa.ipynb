{
 "cells": [
  {
   "cell_type": "code",
   "execution_count": 212,
   "metadata": {},
   "outputs": [],
   "source": [
    "import numpy as np"
   ]
  },
  {
   "cell_type": "markdown",
   "metadata": {},
   "source": [
    "# Create environment"
   ]
  },
  {
   "cell_type": "code",
   "execution_count": 213,
   "metadata": {},
   "outputs": [],
   "source": [
    "number_of_states = 16\n",
    "number_of_terminal_states = 2\n",
    "number_of_non_terminal_states = number_of_states - number_of_terminal_states"
   ]
  },
  {
   "cell_type": "code",
   "execution_count": 214,
   "metadata": {},
   "outputs": [],
   "source": [
    "max_number_of_actions = 4"
   ]
  },
  {
   "cell_type": "code",
   "execution_count": 215,
   "metadata": {},
   "outputs": [],
   "source": [
    "number_of_actions_per_non_terminal_state = np.repeat(a = max_number_of_actions, repeats = number_of_non_terminal_states)"
   ]
  },
  {
   "cell_type": "code",
   "execution_count": 216,
   "metadata": {},
   "outputs": [],
   "source": [
    "number_of_state_action_successor_states = np.repeat(a = 1, repeats = number_of_states * max_number_of_actions)"
   ]
  },
  {
   "cell_type": "code",
   "execution_count": 217,
   "metadata": {},
   "outputs": [],
   "source": [
    "number_of_state_action_successor_states = np.reshape(a = number_of_state_action_successor_states, newshape = (number_of_states, max_number_of_actions))"
   ]
  },
  {
   "cell_type": "code",
   "execution_count": 218,
   "metadata": {},
   "outputs": [],
   "source": [
    "state_action_successor_state_indices = np.array([1, 0, 14, 4, 2, 1, 0, 5, 2, 2, 1, 6, 4, 14, 3, 7, 5, 0, 3, 8, 6, 1, 4, 9, 6, 2, 5, 10, 8, 3, 7, 11, 9, 4, 7, 12, 10, 5, 8, 13, 10, 6, 9, 15, 12, 7, 11, 11, 13, 8, 11, 12, 15, 9, 12, 13], dtype = np.int64)"
   ]
  },
  {
   "cell_type": "code",
   "execution_count": 219,
   "metadata": {},
   "outputs": [],
   "source": [
    "state_action_successor_state_transition_probabilities = np.repeat(a = 1.0, repeats = number_of_non_terminal_states * max_number_of_actions * 1)"
   ]
  },
  {
   "cell_type": "code",
   "execution_count": 220,
   "metadata": {},
   "outputs": [],
   "source": [
    "state_action_successor_state_rewards = np.repeat(a = -1.0, repeats = number_of_non_terminal_states * max_number_of_actions * 1)"
   ]
  },
  {
   "cell_type": "code",
   "execution_count": 221,
   "metadata": {},
   "outputs": [],
   "source": [
    "state_action_successor_state_indices = np.reshape(a = state_action_successor_state_indices, newshape = (number_of_non_terminal_states, max_number_of_actions, 1))\n",
    "state_action_successor_state_transition_probabilities = np.reshape(a = state_action_successor_state_transition_probabilities, newshape = (number_of_non_terminal_states, max_number_of_actions, 1))\n",
    "state_action_successor_state_rewards = np.reshape(a = state_action_successor_state_rewards, newshape = (number_of_non_terminal_states, max_number_of_actions, 1))"
   ]
  },
  {
   "cell_type": "markdown",
   "metadata": {},
   "source": [
    "# Set hyperparameters"
   ]
  },
  {
   "cell_type": "code",
   "execution_count": 222,
   "metadata": {},
   "outputs": [],
   "source": [
    "# Set the number of episodes\n",
    "number_of_episodes = 10000\n",
    "# Set the maximum episode length\n",
    "maximum_episode_length = 200\n",
    "# Set learning rate alpha\n",
    "alpha = 0.1\n",
    "# Set epsilon for our epsilon level of exploration\n",
    "epsilon = 0.1\n",
    "# Set discounting factor gamma\n",
    "discounting_factor_gamma = 1.0"
   ]
  },
  {
   "cell_type": "markdown",
   "metadata": {},
   "source": [
    "# Create value function and policy arrays"
   ]
  },
  {
   "cell_type": "code",
   "execution_count": 223,
   "metadata": {},
   "outputs": [],
   "source": [
    "state_action_value_function1 = np.repeat(a = 0.0, repeats = number_of_states * max_number_of_actions)\n",
    "state_action_value_function1 = np.reshape(a = state_action_value_function1, newshape = (number_of_states, max_number_of_actions))\n",
    "\n",
    "state_action_value_function2 = np.repeat(a = 0.0, repeats = number_of_states * max_number_of_actions)\n",
    "state_action_value_function2 = np.reshape(a = state_action_value_function2, newshape = (number_of_states, max_number_of_actions))"
   ]
  },
  {
   "cell_type": "code",
   "execution_count": 224,
   "metadata": {},
   "outputs": [],
   "source": [
    "policy = np.repeat(a = 1.0 / max_number_of_actions, repeats = number_of_non_terminal_states * max_number_of_actions)\n",
    "policy = np.reshape(a = policy, newshape = (number_of_non_terminal_states, max_number_of_actions))"
   ]
  },
  {
   "cell_type": "markdown",
   "metadata": {},
   "source": [
    "# Create algorithm"
   ]
  },
  {
   "cell_type": "code",
   "execution_count": 225,
   "metadata": {},
   "outputs": [],
   "source": [
    "# Set random seed so that everything is reproducible\n",
    "np.random.seed(seed = 0)"
   ]
  },
  {
   "cell_type": "code",
   "execution_count": 226,
   "metadata": {},
   "outputs": [],
   "source": [
    "# This function initializes episodes\n",
    "def initialize_epsiode(number_of_non_terminal_states, max_number_of_actions, state_action_value_function1, state_action_value_function2, epsilon, policy):\n",
    "    # Initial state\n",
    "    initial_state_index = np.random.randint(low = 0, high = number_of_non_terminal_states, dtype = np.int64) # randomly choose an initial state from all non-terminal states\n",
    "\n",
    "    # Choose policy for chosen state by epsilon-greedy choosing from the state-action-value function\n",
    "    policy = epsilon_greedy_policy_from_state_action_function(max_number_of_actions, state_action_value_function1, state_action_value_function2, epsilon, initial_state_index, policy)\n",
    "\n",
    "    # Get initial action\n",
    "    initial_action_index = np.random.choice(a = max_number_of_actions, p = policy[initial_state_index, :])\n",
    "\n",
    "    return initial_state_index, initial_action_index, policy"
   ]
  },
  {
   "cell_type": "code",
   "execution_count": 227,
   "metadata": {},
   "outputs": [],
   "source": [
    "# This function selects a policy greedily from the state-action-value function\n",
    "def epsilon_greedy_policy_from_state_action_function(max_number_of_actions, state_action_value_function1, state_action_value_function2, epsilon, state_index, policy):\n",
    "    # Combine state-action value functions\n",
    "    state_action_value_function = state_action_value_function1[state_index, :] + state_action_value_function2[state_index, :]\n",
    "    \n",
    "    # Save max state-action value and find the number of actions that have the same max state-action value\n",
    "    max_action_value = np.max(a = state_action_value_function)\n",
    "    max_action_count = np.count_nonzero(a = state_action_value_function == max_action_value)\n",
    "\n",
    "    # Apportion policy probability across ties equally for state-action pairs that have the same value and zero otherwise\n",
    "    if max_action_count == max_number_of_actions:\n",
    "        max_policy_apportioned_probability_per_action = 1.0 / max_action_count\n",
    "        remaining_apportioned_probability_per_action = 0.0\n",
    "    else:\n",
    "        max_policy_apportioned_probability_per_action = (1.0 - epsilon) / max_action_count\n",
    "        remaining_apportioned_probability_per_action = epsilon / (max_number_of_actions - max_action_count)\n",
    "\n",
    "    policy[state_index, :] = np.where(state_action_value_function == max_action_value, max_policy_apportioned_probability_per_action, remaining_apportioned_probability_per_action)\n",
    "\n",
    "    return policy"
   ]
  },
  {
   "cell_type": "code",
   "execution_count": 228,
   "metadata": {},
   "outputs": [],
   "source": [
    "# This function loops through episodes and updates the policy\n",
    "def loop_through_episode(number_of_non_terminal_states, max_number_of_actions, number_of_state_action_successor_states, state_action_successor_state_indices, state_action_successor_state_transition_probabilities, state_action_successor_state_rewards, state_action_value_function1, state_action_value_function2, policy, alpha, epsilon, discounting_factor_gamma, maximum_episode_length, state_index, action_index):\n",
    "    # Loop through episode steps until termination\n",
    "    for t in range(0, maximum_episode_length):\n",
    "        # Get reward\n",
    "        successor_state_transition_index = np.random.choice(a = number_of_state_action_successor_states[state_index, action_index], p = state_action_successor_state_transition_probabilities[state_index, action_index, :])\n",
    "\n",
    "        reward = state_action_successor_state_rewards[state_index, action_index, successor_state_transition_index]\n",
    "\n",
    "        # Get next state\n",
    "        next_state_index = state_action_successor_state_indices[state_index, action_index, successor_state_transition_index]\n",
    "\n",
    "        # Update state action value equally randomly selecting from the state-action-value functions\n",
    "        if (np.random.randint(low = 0, high = 2, dtype = np.int64) == 0):\n",
    "            state_action_value_function1, state_action_value_function2, policy, state_index, action_index = update_state_action_value_function(number_of_non_terminal_states, max_number_of_actions, state_action_value_function2, policy, alpha, epsilon, discounting_factor_gamma, state_index, action_index, reward, next_state_index, state_action_value_function1);\n",
    "        else:\n",
    "            state_action_value_function2, state_action_value_function1, policy, state_index, action_index = update_state_action_value_function(number_of_non_terminal_states, max_number_of_actions, state_action_value_function1, policy, alpha, epsilon, discounting_factor_gamma, state_index, action_index, reward, next_state_index, state_action_value_function2);\n",
    "\n",
    "        if next_state_index >= number_of_non_terminal_states:\n",
    "            break; # episode terminated since we ended up in a terminal state\n",
    "        \n",
    "    return state_action_value_function1, state_action_value_function2, policy"
   ]
  },
  {
   "cell_type": "code",
   "execution_count": 229,
   "metadata": {},
   "outputs": [],
   "source": [
    "# This function updates the state-action-value function\n",
    "def update_state_action_value_function(number_of_non_terminal_states, max_number_of_actions, not_updating_state_action_value_function, policy, alpha, epsilon, discounting_factor_gamma, state_index, action_index, reward, next_state_index, updating_state_action_value_function):\n",
    "    # Check to see if we actioned into a terminal state\n",
    "    if next_state_index >= number_of_non_terminal_states:\n",
    "        updating_state_action_value_function[state_index, action_index] += alpha * (reward - updating_state_action_value_function[state_index, action_index])\n",
    "    else:\n",
    "        # Choose policy for chosen state by epsilon-greedy choosing from the state-action-value function */\n",
    "        policy = epsilon_greedy_policy_from_state_action_function(max_number_of_actions, updating_state_action_value_function, not_updating_state_action_value_function, epsilon, next_state_index, policy)\n",
    "\n",
    "        # Get next action\n",
    "        next_action_index = np.random.choice(a = max_number_of_actions, p = policy[next_state_index, :])\n",
    "\n",
    "        # Calculate state-action-function using quintuple SARSA\n",
    "        updating_state_action_value_function[state_index, action_index] += alpha * (reward + discounting_factor_gamma * not_updating_state_action_value_function[next_state_index, next_action_index] - updating_state_action_value_function[state_index, action_index])\n",
    "\n",
    "        # Update state and action to next state and action\n",
    "        state_index = next_state_index\n",
    "        action_index = next_action_index\n",
    "        \n",
    "    return updating_state_action_value_function, not_updating_state_action_value_function, policy, state_index, action_index"
   ]
  },
  {
   "cell_type": "code",
   "execution_count": 230,
   "metadata": {},
   "outputs": [],
   "source": [
    "def on_policy_temporal_difference_double_sarsa(number_of_non_terminal_states, max_number_of_actions, number_of_state_action_successor_states, state_action_successor_state_indices, state_action_successor_state_transition_probabilities, state_action_successor_state_rewards, state_action_value_function1, state_action_value_function2, policy, alpha, epsilon, discounting_factor_gamma, maximum_episode_length):\n",
    "    for episode in range(0, number_of_episodes):\n",
    "        # Initialize episode to get initial state and action\n",
    "        initial_state_index, initial_action_index, policy = initialize_epsiode(number_of_non_terminal_states, max_number_of_actions, state_action_value_function1, state_action_value_function2, epsilon, policy)\n",
    "\n",
    "        # Loop through episode and update the policy\n",
    "        state_action_value_function1, state_action_value_function2, policy = loop_through_episode(number_of_non_terminal_states, max_number_of_actions, number_of_state_action_successor_states, state_action_successor_state_indices, state_action_successor_state_transition_probabilities, state_action_successor_state_rewards, state_action_value_function1, state_action_value_function2, policy, alpha, epsilon, discounting_factor_gamma, maximum_episode_length, initial_state_index, initial_action_index)\n",
    "    \n",
    "    return state_action_value_function1, state_action_value_function2, policy"
   ]
  },
  {
   "cell_type": "markdown",
   "metadata": {},
   "source": [
    "# Run algorithm"
   ]
  },
  {
   "cell_type": "code",
   "execution_count": 231,
   "metadata": {},
   "outputs": [
    {
     "name": "stdout",
     "output_type": "stream",
     "text": [
      "\n",
      "Initial state-action value function1\n",
      "[[0. 0. 0. 0.]\n",
      " [0. 0. 0. 0.]\n",
      " [0. 0. 0. 0.]\n",
      " [0. 0. 0. 0.]\n",
      " [0. 0. 0. 0.]\n",
      " [0. 0. 0. 0.]\n",
      " [0. 0. 0. 0.]\n",
      " [0. 0. 0. 0.]\n",
      " [0. 0. 0. 0.]\n",
      " [0. 0. 0. 0.]\n",
      " [0. 0. 0. 0.]\n",
      " [0. 0. 0. 0.]\n",
      " [0. 0. 0. 0.]\n",
      " [0. 0. 0. 0.]\n",
      " [0. 0. 0. 0.]\n",
      " [0. 0. 0. 0.]]\n",
      "\n",
      "Initial state-action value function2\n",
      "[[0. 0. 0. 0.]\n",
      " [0. 0. 0. 0.]\n",
      " [0. 0. 0. 0.]\n",
      " [0. 0. 0. 0.]\n",
      " [0. 0. 0. 0.]\n",
      " [0. 0. 0. 0.]\n",
      " [0. 0. 0. 0.]\n",
      " [0. 0. 0. 0.]\n",
      " [0. 0. 0. 0.]\n",
      " [0. 0. 0. 0.]\n",
      " [0. 0. 0. 0.]\n",
      " [0. 0. 0. 0.]\n",
      " [0. 0. 0. 0.]\n",
      " [0. 0. 0. 0.]\n",
      " [0. 0. 0. 0.]\n",
      " [0. 0. 0. 0.]]\n",
      "\n",
      "Initial policy\n",
      "[[0.25 0.25 0.25 0.25]\n",
      " [0.25 0.25 0.25 0.25]\n",
      " [0.25 0.25 0.25 0.25]\n",
      " [0.25 0.25 0.25 0.25]\n",
      " [0.25 0.25 0.25 0.25]\n",
      " [0.25 0.25 0.25 0.25]\n",
      " [0.25 0.25 0.25 0.25]\n",
      " [0.25 0.25 0.25 0.25]\n",
      " [0.25 0.25 0.25 0.25]\n",
      " [0.25 0.25 0.25 0.25]\n",
      " [0.25 0.25 0.25 0.25]\n",
      " [0.25 0.25 0.25 0.25]\n",
      " [0.25 0.25 0.25 0.25]\n",
      " [0.25 0.25 0.25 0.25]]\n",
      "\n",
      "Final state-action value function1\n",
      "[[-3.31505467 -2.19680469 -1.         -3.30616846]\n",
      " [-4.18001723 -3.32691897 -2.12054902 -3.9955976 ]\n",
      " [-3.80061175 -4.02724877 -3.66148125 -3.22829343]\n",
      " [-3.15899629 -1.         -2.07081098 -3.35963324]\n",
      " [-3.91563766 -2.41049028 -2.17141947 -3.99939854]\n",
      " [-3.47643975 -3.39515677 -3.18345117 -3.28234434]\n",
      " [-2.99858926 -3.5542713  -4.10428073 -2.06136885]\n",
      " [-4.10517197 -2.40434873 -3.11075613 -4.1448742 ]\n",
      " [-3.32181991 -3.34811601 -3.43009667 -3.28157096]\n",
      " [-2.12086454 -4.0392754  -4.02895778 -2.65029561]\n",
      " [-2.04150886 -3.2274225  -3.22224999 -1.        ]\n",
      " [-3.46220729 -3.46746999 -4.06991092 -3.94224207]\n",
      " [-2.26307208 -3.76247568 -4.22148314 -3.13632247]\n",
      " [-1.         -3.2156768  -3.40537077 -2.52117038]\n",
      " [ 0.          0.          0.          0.        ]\n",
      " [ 0.          0.          0.          0.        ]]\n",
      "\n",
      "Final state-action value function2\n",
      "[[-3.43246106 -2.11200472 -1.         -3.05175353]\n",
      " [-4.03774305 -3.05389624 -2.25470761 -3.97859327]\n",
      " [-3.98989527 -3.78478124 -3.53317939 -3.22553642]\n",
      " [-3.3259245  -1.         -2.01462522 -3.18463057]\n",
      " [-3.86895521 -2.17381722 -2.07221423 -4.10229878]\n",
      " [-3.12041449 -3.4252911  -3.2769452  -3.51533547]\n",
      " [-3.00390939 -4.13705155 -4.21570564 -2.03314544]\n",
      " [-4.00636179 -2.19764542 -3.42612853 -4.15700729]\n",
      " [-3.56019173 -3.36552595 -3.53868165 -3.63443255]\n",
      " [-2.24588874 -4.12825858 -3.88187808 -2.25970519]\n",
      " [-2.25361923 -3.23240011 -3.38270358 -1.        ]\n",
      " [-3.39209168 -3.63800827 -4.09782596 -3.6937277 ]\n",
      " [-2.02456843 -3.84859064 -4.06843449 -3.13938649]\n",
      " [-1.         -3.40450634 -3.43342191 -2.01189245]\n",
      " [ 0.          0.          0.          0.        ]\n",
      " [ 0.          0.          0.          0.        ]]\n",
      "\n",
      "Final policy\n",
      "[[0.03333333 0.03333333 0.9        0.03333333]\n",
      " [0.03333333 0.03333333 0.9        0.03333333]\n",
      " [0.03333333 0.03333333 0.03333333 0.9       ]\n",
      " [0.03333333 0.9        0.03333333 0.03333333]\n",
      " [0.03333333 0.03333333 0.9        0.03333333]\n",
      " [0.03333333 0.03333333 0.9        0.03333333]\n",
      " [0.03333333 0.03333333 0.03333333 0.9       ]\n",
      " [0.03333333 0.9        0.03333333 0.03333333]\n",
      " [0.03333333 0.9        0.03333333 0.03333333]\n",
      " [0.9        0.03333333 0.03333333 0.03333333]\n",
      " [0.03333333 0.03333333 0.03333333 0.9       ]\n",
      " [0.9        0.03333333 0.03333333 0.03333333]\n",
      " [0.9        0.03333333 0.03333333 0.03333333]\n",
      " [0.9        0.03333333 0.03333333 0.03333333]]\n"
     ]
    }
   ],
   "source": [
    "# Print initial arrays\n",
    "print(\"\\nInitial state-action value function1\")\n",
    "print(state_action_value_function1)\n",
    "\n",
    "print(\"\\nInitial state-action value function2\")\n",
    "print(state_action_value_function2)\n",
    "\n",
    "print(\"\\nInitial policy\")\n",
    "print(policy)\n",
    "\n",
    "# Run on policy temporal difference double sarsa\n",
    "state_action_value_function1, state_action_value_function2, policy = on_policy_temporal_difference_double_sarsa(number_of_non_terminal_states, max_number_of_actions, number_of_state_action_successor_states, state_action_successor_state_indices, state_action_successor_state_transition_probabilities, state_action_successor_state_rewards, state_action_value_function1, state_action_value_function2, policy, alpha, epsilon, discounting_factor_gamma, maximum_episode_length)\n",
    "\n",
    "# Print final results\n",
    "print(\"\\nFinal state-action value function1\")\n",
    "print(state_action_value_function1)\n",
    "\n",
    "print(\"\\nFinal state-action value function2\")\n",
    "print(state_action_value_function2)\n",
    "\n",
    "print(\"\\nFinal policy\")\n",
    "print(policy)"
   ]
  },
  {
   "cell_type": "code",
   "execution_count": null,
   "metadata": {},
   "outputs": [],
   "source": []
  }
 ],
 "metadata": {
  "kernelspec": {
   "display_name": "Python 3",
   "language": "python",
   "name": "python3"
  },
  "language_info": {
   "codemirror_mode": {
    "name": "ipython",
    "version": 3
   },
   "file_extension": ".py",
   "mimetype": "text/x-python",
   "name": "python",
   "nbconvert_exporter": "python",
   "pygments_lexer": "ipython3",
   "version": "3.6.6"
  }
 },
 "nbformat": 4,
 "nbformat_minor": 2
}
