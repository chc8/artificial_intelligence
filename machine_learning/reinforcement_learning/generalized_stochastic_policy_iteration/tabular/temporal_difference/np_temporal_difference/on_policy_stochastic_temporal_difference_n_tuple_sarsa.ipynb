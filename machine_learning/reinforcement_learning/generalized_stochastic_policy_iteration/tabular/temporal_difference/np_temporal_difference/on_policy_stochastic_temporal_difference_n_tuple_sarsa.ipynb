{
 "cells": [
  {
   "cell_type": "code",
   "execution_count": 42,
   "metadata": {},
   "outputs": [],
   "source": [
    "import numpy as np"
   ]
  },
  {
   "cell_type": "markdown",
   "metadata": {},
   "source": [
    "# Create environment"
   ]
  },
  {
   "cell_type": "code",
   "execution_count": 43,
   "metadata": {},
   "outputs": [],
   "source": [
    "number_of_states = 16\n",
    "number_of_terminal_states = 2\n",
    "number_of_non_terminal_states = number_of_states - number_of_terminal_states"
   ]
  },
  {
   "cell_type": "code",
   "execution_count": 44,
   "metadata": {},
   "outputs": [],
   "source": [
    "max_number_of_actions = 4"
   ]
  },
  {
   "cell_type": "code",
   "execution_count": 45,
   "metadata": {},
   "outputs": [],
   "source": [
    "number_of_actions_per_non_terminal_state = np.repeat(a = max_number_of_actions, repeats = number_of_non_terminal_states)"
   ]
  },
  {
   "cell_type": "code",
   "execution_count": 46,
   "metadata": {},
   "outputs": [],
   "source": [
    "number_of_state_action_successor_states = np.repeat(a = 1, repeats = number_of_states * max_number_of_actions)"
   ]
  },
  {
   "cell_type": "code",
   "execution_count": 47,
   "metadata": {},
   "outputs": [],
   "source": [
    "number_of_state_action_successor_states = np.reshape(a = number_of_state_action_successor_states, newshape = (number_of_states, max_number_of_actions))"
   ]
  },
  {
   "cell_type": "code",
   "execution_count": 48,
   "metadata": {},
   "outputs": [],
   "source": [
    "state_action_successor_state_indices = np.array([1, 0, 14, 4, 2, 1, 0, 5, 2, 2, 1, 6, 4, 14, 3, 7, 5, 0, 3, 8, 6, 1, 4, 9, 6, 2, 5, 10, 8, 3, 7, 11, 9, 4, 7, 12, 10, 5, 8, 13, 10, 6, 9, 15, 12, 7, 11, 11, 13, 8, 11, 12, 15, 9, 12, 13], dtype = np.int64)"
   ]
  },
  {
   "cell_type": "code",
   "execution_count": 49,
   "metadata": {},
   "outputs": [],
   "source": [
    "state_action_successor_state_transition_probabilities = np.repeat(a = 1.0, repeats = number_of_non_terminal_states * max_number_of_actions * 1)"
   ]
  },
  {
   "cell_type": "code",
   "execution_count": 50,
   "metadata": {},
   "outputs": [],
   "source": [
    "state_action_successor_state_rewards = np.repeat(a = -1.0, repeats = number_of_non_terminal_states * max_number_of_actions * 1)"
   ]
  },
  {
   "cell_type": "code",
   "execution_count": 51,
   "metadata": {},
   "outputs": [],
   "source": [
    "state_action_successor_state_indices = np.reshape(a = state_action_successor_state_indices, newshape = (number_of_non_terminal_states, max_number_of_actions, 1))\n",
    "state_action_successor_state_transition_probabilities = np.reshape(a = state_action_successor_state_transition_probabilities, newshape = (number_of_non_terminal_states, max_number_of_actions, 1))\n",
    "state_action_successor_state_rewards = np.reshape(a = state_action_successor_state_rewards, newshape = (number_of_non_terminal_states, max_number_of_actions, 1))"
   ]
  },
  {
   "cell_type": "markdown",
   "metadata": {},
   "source": [
    "# Set hyperparameters"
   ]
  },
  {
   "cell_type": "code",
   "execution_count": 52,
   "metadata": {},
   "outputs": [],
   "source": [
    "# Set the number of episodes\n",
    "number_of_episodes = 10000\n",
    "# Set the maximum episode length\n",
    "maximum_episode_length = 200\n",
    "# Set the number of state-action-value functions\n",
    "number_of_state_action_value_functions = 3\n",
    "# Set learning rate alpha\n",
    "alpha = 0.1\n",
    "# Set epsilon for our epsilon level of exploration\n",
    "epsilon = 0.1\n",
    "# Set discounting factor gamma\n",
    "discounting_factor_gamma = 1.0"
   ]
  },
  {
   "cell_type": "markdown",
   "metadata": {},
   "source": [
    "# Create value function and policy arrays"
   ]
  },
  {
   "cell_type": "code",
   "execution_count": 53,
   "metadata": {},
   "outputs": [],
   "source": [
    "state_action_value_function = np.repeat(a = 0.0, repeats = number_of_state_action_value_functions * number_of_states * max_number_of_actions)\n",
    "state_action_value_function = np.reshape(a = state_action_value_function, newshape = (number_of_state_action_value_functions, number_of_states, max_number_of_actions))"
   ]
  },
  {
   "cell_type": "code",
   "execution_count": 54,
   "metadata": {},
   "outputs": [],
   "source": [
    "policy = np.repeat(a = 1.0 / max_number_of_actions, repeats = number_of_non_terminal_states * max_number_of_actions)\n",
    "policy = np.reshape(a = policy, newshape = (number_of_non_terminal_states, max_number_of_actions))"
   ]
  },
  {
   "cell_type": "markdown",
   "metadata": {},
   "source": [
    "# Create algorithm"
   ]
  },
  {
   "cell_type": "code",
   "execution_count": 55,
   "metadata": {},
   "outputs": [],
   "source": [
    "# Set random seed so that everything is reproducible\n",
    "np.random.seed(seed = 0)"
   ]
  },
  {
   "cell_type": "code",
   "execution_count": 56,
   "metadata": {},
   "outputs": [],
   "source": [
    "# This function initializes episodes\n",
    "def initialize_epsiode(number_of_non_terminal_states, max_number_of_actions, state_action_value_function, epsilon, policy):\n",
    "    # Initial state\n",
    "    initial_state_index = np.random.randint(low = 0, high = number_of_non_terminal_states, dtype = np.int64) # randomly choose an initial state from all non-terminal states\n",
    "\n",
    "    # Choose policy for chosen state by epsilon-greedy choosing from the state-action-value function\n",
    "    policy = epsilon_greedy_policy_from_state_action_function(max_number_of_actions, state_action_value_function, epsilon, initial_state_index, policy)\n",
    "\n",
    "    # Get initial action\n",
    "    initial_action_index = np.random.choice(a = max_number_of_actions, p = policy[initial_state_index, :])\n",
    "\n",
    "    return initial_state_index, initial_action_index, policy"
   ]
  },
  {
   "cell_type": "code",
   "execution_count": 57,
   "metadata": {},
   "outputs": [],
   "source": [
    "# This function selects a policy greedily from the state-action-value function\n",
    "def epsilon_greedy_policy_from_state_action_function(max_number_of_actions, state_action_value_function, epsilon, state_index, policy):\n",
    "    # Combine state-action value functions\n",
    "    state_action_value_function = np.sum(a = state_action_value_function[:, state_index, :], axis = 0)\n",
    "    \n",
    "    # Save max state-action value and find the number of actions that have the same max state-action value\n",
    "    max_action_value = np.max(a = state_action_value_function)\n",
    "    max_action_count = np.count_nonzero(a = state_action_value_function == max_action_value)\n",
    "\n",
    "    # Apportion policy probability across ties equally for state-action pairs that have the same value and zero otherwise\n",
    "    if max_action_count == max_number_of_actions:\n",
    "        max_policy_apportioned_probability_per_action = 1.0 / max_action_count\n",
    "        remaining_apportioned_probability_per_action = 0.0\n",
    "    else:\n",
    "        max_policy_apportioned_probability_per_action = (1.0 - epsilon) / max_action_count\n",
    "        remaining_apportioned_probability_per_action = epsilon / (max_number_of_actions - max_action_count)\n",
    "\n",
    "    policy[state_index, :] = np.where(state_action_value_function == max_action_value, max_policy_apportioned_probability_per_action, remaining_apportioned_probability_per_action)\n",
    "\n",
    "    return policy"
   ]
  },
  {
   "cell_type": "code",
   "execution_count": 58,
   "metadata": {},
   "outputs": [],
   "source": [
    "# This function loops through episodes and updates the policy\n",
    "def loop_through_episode(number_of_non_terminal_states, max_number_of_actions, number_of_state_action_successor_states, state_action_successor_state_indices, state_action_successor_state_transition_probabilities, state_action_successor_state_rewards, number_of_state_action_value_functions, state_action_value_function, policy, alpha, epsilon, discounting_factor_gamma, maximum_episode_length, state_index, action_index):\n",
    "    # Loop through episode steps until termination\n",
    "    for t in range(0, maximum_episode_length):\n",
    "        # Get reward\n",
    "        successor_state_transition_index = np.random.choice(a = number_of_state_action_successor_states[state_index, action_index], p = state_action_successor_state_transition_probabilities[state_index, action_index, :])\n",
    "\n",
    "        reward = state_action_successor_state_rewards[state_index, action_index, successor_state_transition_index]\n",
    "\n",
    "        # Get next state\n",
    "        next_state_index = state_action_successor_state_indices[state_index, action_index, successor_state_transition_index]\n",
    "        \n",
    "        # Update state action value equally randomly selecting from the state-action-value functions\n",
    "        updating_state_action_value_function_index = np.random.randint(low = 0, high = number_of_state_action_value_functions, dtype = np.int64)\n",
    "\n",
    "        state_action_value_function, policy, state_index, action_index = update_state_action_value_function(number_of_non_terminal_states, max_number_of_actions, policy, alpha, epsilon, discounting_factor_gamma, state_index, action_index, reward, next_state_index, updating_state_action_value_function_index, number_of_state_action_value_functions, state_action_value_function);\n",
    "\n",
    "        if next_state_index >= number_of_non_terminal_states:\n",
    "            break; # episode terminated since we ended up in a terminal state\n",
    "        \n",
    "    return state_action_value_function, policy"
   ]
  },
  {
   "cell_type": "code",
   "execution_count": 59,
   "metadata": {},
   "outputs": [],
   "source": [
    "# This function updates the state-action-value function\n",
    "def update_state_action_value_function(number_of_non_terminal_states, max_number_of_actions, policy, alpha, epsilon, discounting_factor_gamma, state_index, action_index, reward, next_state_index, updating_state_action_value_function_index, number_of_state_action_value_functions, state_action_value_function):\n",
    "    # Check to see if we actioned into a terminal state\n",
    "    if next_state_index >= number_of_non_terminal_states:\n",
    "        state_action_value_function[updating_state_action_value_function_index, state_index, action_index] += alpha * (reward - state_action_value_function[updating_state_action_value_function_index, state_index, action_index])\n",
    "    else:\n",
    "        # Choose policy for chosen state by epsilon-greedy choosing from the state-action-value function */\n",
    "        policy = epsilon_greedy_policy_from_state_action_function(max_number_of_actions, state_action_value_function, epsilon, next_state_index, policy)\n",
    "\n",
    "        # Get next action\n",
    "        next_action_index = np.random.choice(a = max_number_of_actions, p = policy[next_state_index, :])\n",
    "\n",
    "        # Calculate state-action-function using quintuple SARSA\n",
    "        state_action_value_function_indices = np.arange(number_of_state_action_value_functions)\n",
    "        \n",
    "        not_updating_state_action_value_function_index = np.random.choice(a = np.extract(condition = state_action_value_function_indices != updating_state_action_value_function_index, arr = state_action_value_function_indices))\n",
    "        \n",
    "        state_action_value_function[updating_state_action_value_function_index, state_index, action_index] += alpha * (reward + discounting_factor_gamma * state_action_value_function[not_updating_state_action_value_function_index, next_state_index, next_action_index] - state_action_value_function[updating_state_action_value_function_index, state_index, action_index])\n",
    "\n",
    "        # Update state and action to next state and action\n",
    "        state_index = next_state_index\n",
    "        action_index = next_action_index\n",
    "        \n",
    "    return state_action_value_function, policy, state_index, action_index"
   ]
  },
  {
   "cell_type": "code",
   "execution_count": 60,
   "metadata": {},
   "outputs": [],
   "source": [
    "def on_policy_temporal_difference_n_tuple_sarsa(number_of_non_terminal_states, max_number_of_actions, number_of_state_action_successor_states, state_action_successor_state_indices, state_action_successor_state_transition_probabilities, state_action_successor_state_rewards, number_of_state_action_value_functions, state_action_value_function, policy, alpha, epsilon, discounting_factor_gamma, maximum_episode_length):\n",
    "    for episode in range(0, number_of_episodes):\n",
    "        # Initialize episode to get initial state and action\n",
    "        initial_state_index, initial_action_index, policy = initialize_epsiode(number_of_non_terminal_states, max_number_of_actions, state_action_value_function, epsilon, policy)\n",
    "\n",
    "        # Loop through episode and update the policy\n",
    "        state_action_value_function, policy = loop_through_episode(number_of_non_terminal_states, max_number_of_actions, number_of_state_action_successor_states, state_action_successor_state_indices, state_action_successor_state_transition_probabilities, state_action_successor_state_rewards, number_of_state_action_value_functions, state_action_value_function, policy, alpha, epsilon, discounting_factor_gamma, maximum_episode_length, initial_state_index, initial_action_index)\n",
    "    \n",
    "    return state_action_value_function, policy"
   ]
  },
  {
   "cell_type": "markdown",
   "metadata": {},
   "source": [
    "# Run algorithm"
   ]
  },
  {
   "cell_type": "code",
   "execution_count": 61,
   "metadata": {},
   "outputs": [
    {
     "name": "stdout",
     "output_type": "stream",
     "text": [
      "\n",
      "Initial state-action value function\n",
      "[[[0. 0. 0. 0.]\n",
      "  [0. 0. 0. 0.]\n",
      "  [0. 0. 0. 0.]\n",
      "  [0. 0. 0. 0.]\n",
      "  [0. 0. 0. 0.]\n",
      "  [0. 0. 0. 0.]\n",
      "  [0. 0. 0. 0.]\n",
      "  [0. 0. 0. 0.]\n",
      "  [0. 0. 0. 0.]\n",
      "  [0. 0. 0. 0.]\n",
      "  [0. 0. 0. 0.]\n",
      "  [0. 0. 0. 0.]\n",
      "  [0. 0. 0. 0.]\n",
      "  [0. 0. 0. 0.]\n",
      "  [0. 0. 0. 0.]\n",
      "  [0. 0. 0. 0.]]\n",
      "\n",
      " [[0. 0. 0. 0.]\n",
      "  [0. 0. 0. 0.]\n",
      "  [0. 0. 0. 0.]\n",
      "  [0. 0. 0. 0.]\n",
      "  [0. 0. 0. 0.]\n",
      "  [0. 0. 0. 0.]\n",
      "  [0. 0. 0. 0.]\n",
      "  [0. 0. 0. 0.]\n",
      "  [0. 0. 0. 0.]\n",
      "  [0. 0. 0. 0.]\n",
      "  [0. 0. 0. 0.]\n",
      "  [0. 0. 0. 0.]\n",
      "  [0. 0. 0. 0.]\n",
      "  [0. 0. 0. 0.]\n",
      "  [0. 0. 0. 0.]\n",
      "  [0. 0. 0. 0.]]\n",
      "\n",
      " [[0. 0. 0. 0.]\n",
      "  [0. 0. 0. 0.]\n",
      "  [0. 0. 0. 0.]\n",
      "  [0. 0. 0. 0.]\n",
      "  [0. 0. 0. 0.]\n",
      "  [0. 0. 0. 0.]\n",
      "  [0. 0. 0. 0.]\n",
      "  [0. 0. 0. 0.]\n",
      "  [0. 0. 0. 0.]\n",
      "  [0. 0. 0. 0.]\n",
      "  [0. 0. 0. 0.]\n",
      "  [0. 0. 0. 0.]\n",
      "  [0. 0. 0. 0.]\n",
      "  [0. 0. 0. 0.]\n",
      "  [0. 0. 0. 0.]\n",
      "  [0. 0. 0. 0.]]]\n",
      "\n",
      "Initial policy\n",
      "[[0.25 0.25 0.25 0.25]\n",
      " [0.25 0.25 0.25 0.25]\n",
      " [0.25 0.25 0.25 0.25]\n",
      " [0.25 0.25 0.25 0.25]\n",
      " [0.25 0.25 0.25 0.25]\n",
      " [0.25 0.25 0.25 0.25]\n",
      " [0.25 0.25 0.25 0.25]\n",
      " [0.25 0.25 0.25 0.25]\n",
      " [0.25 0.25 0.25 0.25]\n",
      " [0.25 0.25 0.25 0.25]\n",
      " [0.25 0.25 0.25 0.25]\n",
      " [0.25 0.25 0.25 0.25]\n",
      " [0.25 0.25 0.25 0.25]\n",
      " [0.25 0.25 0.25 0.25]]\n",
      "\n",
      "Final state-action value function\n",
      "[[[-3.13713005 -2.03170358 -1.         -2.78873257]\n",
      "  [-3.7616367  -2.83993565 -2.05149502 -2.99083486]\n",
      "  [-3.70858611 -3.79192305 -3.28467468 -3.28992076]\n",
      "  [-2.9425024  -1.         -1.9293953  -2.92428379]\n",
      "  [-3.35500718 -2.33925877 -2.11554999 -3.46857146]\n",
      "  [-3.27622722 -3.1990644  -3.21837773 -3.16301782]\n",
      "  [-2.82863087 -3.98793502 -3.45190198 -2.25998382]\n",
      "  [-3.66219364 -2.03054132 -3.0558509  -3.46935458]\n",
      "  [-3.17979819 -3.321236   -3.25289649 -3.17060674]\n",
      "  [-2.23324783 -3.77561375 -3.61461143 -2.33139236]\n",
      "  [-2.04492266 -3.28602839 -3.02115685 -1.        ]\n",
      "  [-3.13971442 -3.37258045 -3.39004705 -3.8907769 ]\n",
      "  [-2.36410615 -3.62257475 -3.89385167 -2.58489664]\n",
      "  [-1.         -2.90636728 -3.20654647 -2.12290649]\n",
      "  [ 0.          0.          0.          0.        ]\n",
      "  [ 0.          0.          0.          0.        ]]\n",
      "\n",
      " [[-3.08712177 -2.18655188 -1.         -2.94969743]\n",
      "  [-3.89016718 -2.98814833 -2.15003339 -3.54547153]\n",
      "  [-3.52490765 -3.59847842 -3.22110498 -3.30131387]\n",
      "  [-3.03246798 -1.         -2.06689868 -2.97712095]\n",
      "  [-3.42460188 -2.22328806 -2.19886604 -3.77880484]\n",
      "  [-3.26589524 -3.35423603 -3.21744022 -3.18789268]\n",
      "  [-3.14489609 -3.49792338 -3.79199739 -2.13119496]\n",
      "  [-3.68860962 -2.07603746 -2.7189896  -3.66180317]\n",
      "  [-3.22854387 -3.13750452 -3.08217051 -3.27233995]\n",
      "  [-2.15425579 -3.63927887 -3.09564947 -2.57909193]\n",
      "  [-2.2223947  -3.15843477 -3.13514295 -1.        ]\n",
      "  [-3.37821321 -3.30115469 -3.89413614 -3.79273635]\n",
      "  [-2.12802065 -3.59070189 -3.3373027  -3.11301727]\n",
      "  [-1.         -3.09566875 -3.17660397 -1.94712012]\n",
      "  [ 0.          0.          0.          0.        ]\n",
      "  [ 0.          0.          0.          0.        ]]\n",
      "\n",
      " [[-3.05621845 -1.9887211  -1.         -2.90121498]\n",
      "  [-3.89974745 -3.05358478 -2.1084371  -3.34105836]\n",
      "  [-3.83923305 -3.91420502 -3.25914797 -3.39582311]\n",
      "  [-3.13352119 -1.         -1.95938806 -3.05417178]\n",
      "  [-3.37287401 -2.30478865 -2.07819524 -3.76445414]\n",
      "  [-3.21863656 -3.21595627 -3.23554499 -3.35951317]\n",
      "  [-2.90582988 -3.85681037 -3.62024417 -2.27688788]\n",
      "  [-3.53860276 -2.00859921 -2.92078493 -3.70138722]\n",
      "  [-3.34035669 -3.32701269 -3.30607515 -3.30141288]\n",
      "  [-2.1552935  -3.38043482 -3.7984216  -2.21181373]\n",
      "  [-1.94533212 -3.28610693 -3.20076045 -1.        ]\n",
      "  [-3.29719621 -3.26827128 -3.73198848 -3.77857482]\n",
      "  [-2.03478374 -3.63207077 -3.69362362 -2.98643481]\n",
      "  [-1.         -3.10307442 -3.30609477 -1.95478474]\n",
      "  [ 0.          0.          0.          0.        ]\n",
      "  [ 0.          0.          0.          0.        ]]]\n",
      "\n",
      "Final policy\n",
      "[[0.03333333 0.03333333 0.9        0.03333333]\n",
      " [0.03333333 0.03333333 0.9        0.03333333]\n",
      " [0.03333333 0.03333333 0.9        0.03333333]\n",
      " [0.03333333 0.9        0.03333333 0.03333333]\n",
      " [0.03333333 0.03333333 0.9        0.03333333]\n",
      " [0.03333333 0.03333333 0.9        0.03333333]\n",
      " [0.03333333 0.03333333 0.03333333 0.9       ]\n",
      " [0.03333333 0.9        0.03333333 0.03333333]\n",
      " [0.03333333 0.03333333 0.9        0.03333333]\n",
      " [0.9        0.03333333 0.03333333 0.03333333]\n",
      " [0.03333333 0.03333333 0.03333333 0.9       ]\n",
      " [0.9        0.03333333 0.03333333 0.03333333]\n",
      " [0.9        0.03333333 0.03333333 0.03333333]\n",
      " [0.9        0.03333333 0.03333333 0.03333333]]\n"
     ]
    }
   ],
   "source": [
    "# Print initial arrays\n",
    "print(\"\\nInitial state-action value function\")\n",
    "print(state_action_value_function)\n",
    "\n",
    "print(\"\\nInitial policy\")\n",
    "print(policy)\n",
    "\n",
    "# Run on policy temporal difference n-tuple sarsa\n",
    "state_action_value_function, policy = on_policy_temporal_difference_n_tuple_sarsa(number_of_non_terminal_states, max_number_of_actions, number_of_state_action_successor_states, state_action_successor_state_indices, state_action_successor_state_transition_probabilities, state_action_successor_state_rewards, number_of_state_action_value_functions, state_action_value_function, policy, alpha, epsilon, discounting_factor_gamma, maximum_episode_length)\n",
    "\n",
    "# Print final results\n",
    "print(\"\\nFinal state-action value function\")\n",
    "print(state_action_value_function)\n",
    "\n",
    "print(\"\\nFinal policy\")\n",
    "print(policy)"
   ]
  },
  {
   "cell_type": "code",
   "execution_count": null,
   "metadata": {},
   "outputs": [],
   "source": []
  }
 ],
 "metadata": {
  "kernelspec": {
   "display_name": "Python 3",
   "language": "python",
   "name": "python3"
  },
  "language_info": {
   "codemirror_mode": {
    "name": "ipython",
    "version": 3
   },
   "file_extension": ".py",
   "mimetype": "text/x-python",
   "name": "python",
   "nbconvert_exporter": "python",
   "pygments_lexer": "ipython3",
   "version": "3.6.6"
  }
 },
 "nbformat": 4,
 "nbformat_minor": 2
}
