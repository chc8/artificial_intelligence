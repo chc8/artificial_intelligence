{
 "cells": [
  {
   "cell_type": "code",
   "execution_count": 29,
   "metadata": {},
   "outputs": [],
   "source": [
    "import numpy as np"
   ]
  },
  {
   "cell_type": "markdown",
   "metadata": {},
   "source": [
    "# Create environment"
   ]
  },
  {
   "cell_type": "code",
   "execution_count": 30,
   "metadata": {},
   "outputs": [],
   "source": [
    "number_of_states = 16\n",
    "number_of_terminal_states = 2\n",
    "number_of_non_terminal_states = number_of_states - number_of_terminal_states"
   ]
  },
  {
   "cell_type": "code",
   "execution_count": 31,
   "metadata": {},
   "outputs": [],
   "source": [
    "max_number_of_actions = 4"
   ]
  },
  {
   "cell_type": "code",
   "execution_count": 32,
   "metadata": {},
   "outputs": [],
   "source": [
    "number_of_actions_per_non_terminal_state = np.repeat(a = max_number_of_actions, repeats = number_of_non_terminal_states)"
   ]
  },
  {
   "cell_type": "code",
   "execution_count": 33,
   "metadata": {},
   "outputs": [],
   "source": [
    "number_of_state_action_successor_states = np.repeat(a = 1, repeats = number_of_states * max_number_of_actions)"
   ]
  },
  {
   "cell_type": "code",
   "execution_count": 34,
   "metadata": {},
   "outputs": [],
   "source": [
    "number_of_state_action_successor_states = np.reshape(a = number_of_state_action_successor_states, newshape = (number_of_states, max_number_of_actions))"
   ]
  },
  {
   "cell_type": "code",
   "execution_count": 35,
   "metadata": {},
   "outputs": [],
   "source": [
    "state_action_successor_state_indices = np.array([1, 0, 14, 4, 2, 1, 0, 5, 2, 2, 1, 6, 4, 14, 3, 7, 5, 0, 3, 8, 6, 1, 4, 9, 6, 2, 5, 10, 8, 3, 7, 11, 9, 4, 7, 12, 10, 5, 8, 13, 10, 6, 9, 15, 12, 7, 11, 11, 13, 8, 11, 12, 15, 9, 12, 13], dtype = np.int64)"
   ]
  },
  {
   "cell_type": "code",
   "execution_count": 36,
   "metadata": {},
   "outputs": [],
   "source": [
    "state_action_successor_state_transition_probabilities = np.repeat(a = 1.0, repeats = number_of_non_terminal_states * max_number_of_actions * 1)"
   ]
  },
  {
   "cell_type": "code",
   "execution_count": 37,
   "metadata": {},
   "outputs": [],
   "source": [
    "state_action_successor_state_rewards = np.repeat(a = -1.0, repeats = number_of_non_terminal_states * max_number_of_actions * 1)"
   ]
  },
  {
   "cell_type": "code",
   "execution_count": 38,
   "metadata": {},
   "outputs": [],
   "source": [
    "state_action_successor_state_indices = np.reshape(a = state_action_successor_state_indices, newshape = (number_of_non_terminal_states, max_number_of_actions, 1))\n",
    "state_action_successor_state_transition_probabilities = np.reshape(a = state_action_successor_state_transition_probabilities, newshape = (number_of_non_terminal_states, max_number_of_actions, 1))\n",
    "state_action_successor_state_rewards = np.reshape(a = state_action_successor_state_rewards, newshape = (number_of_non_terminal_states, max_number_of_actions, 1))"
   ]
  },
  {
   "cell_type": "markdown",
   "metadata": {},
   "source": [
    "# Set hyperparameters"
   ]
  },
  {
   "cell_type": "code",
   "execution_count": 39,
   "metadata": {},
   "outputs": [],
   "source": [
    "#Set the n steps\n",
    "n_steps = 4\n",
    "# Set the number of episodes\n",
    "number_of_episodes = 10000\n",
    "# Set the maximum episode length\n",
    "maximum_episode_length = 2000\n",
    "# Set learning rate alpha\n",
    "alpha = 0.1\n",
    "# Set discounting factor gamma\n",
    "discounting_factor_gamma = 1.0"
   ]
  },
  {
   "cell_type": "markdown",
   "metadata": {},
   "source": [
    "# Create value function and policy arrays"
   ]
  },
  {
   "cell_type": "code",
   "execution_count": 40,
   "metadata": {},
   "outputs": [],
   "source": [
    "# Create epsiode log\n",
    "episode_log = {\"state_index\": np.repeat(a = -1, repeats = maximum_episode_length), \n",
    "               \"action_index\": np.repeat(a = -1, repeats = maximum_episode_length), \n",
    "               \"reward\": np.repeat(a = 0.0, repeats = maximum_episode_length), \n",
    "               \"sigma\": np.repeat(a = 0.0, repeats = maximum_episode_length), \n",
    "               \"importance_sampling_ratio\": np.repeat(a = 1.0, repeats = maximum_episode_length)}"
   ]
  },
  {
   "cell_type": "code",
   "execution_count": 41,
   "metadata": {},
   "outputs": [],
   "source": [
    "state_action_value_function = np.repeat(a = 0.0, repeats = number_of_states * max_number_of_actions)\n",
    "state_action_value_function = np.reshape(a = state_action_value_function, newshape = (number_of_states, max_number_of_actions))"
   ]
  },
  {
   "cell_type": "code",
   "execution_count": 42,
   "metadata": {},
   "outputs": [],
   "source": [
    "target_policy = np.repeat(a = 1.0 / max_number_of_actions, repeats = number_of_non_terminal_states * max_number_of_actions)\n",
    "target_policy = np.reshape(a = target_policy, newshape = (number_of_non_terminal_states, max_number_of_actions))"
   ]
  },
  {
   "cell_type": "code",
   "execution_count": 43,
   "metadata": {},
   "outputs": [],
   "source": [
    "behavior_policy = np.repeat(a = 1.0 / max_number_of_actions, repeats = number_of_non_terminal_states * max_number_of_actions)\n",
    "behavior_policy = np.reshape(a = behavior_policy, newshape = (number_of_non_terminal_states, max_number_of_actions))"
   ]
  },
  {
   "cell_type": "markdown",
   "metadata": {},
   "source": [
    "# Create algorithm"
   ]
  },
  {
   "cell_type": "code",
   "execution_count": 44,
   "metadata": {},
   "outputs": [],
   "source": [
    "# Set random seed so that everything is reproducible\n",
    "np.random.seed(seed = 0)"
   ]
  },
  {
   "cell_type": "code",
   "execution_count": 45,
   "metadata": {},
   "outputs": [],
   "source": [
    "# This function initializes episodes\n",
    "def initialize_epsiode(number_of_non_terminal_states, max_number_of_actions, maximum_episode_length, behavior_policy, episode_log):\n",
    "    # Initial state\n",
    "    episode_log[\"state_index\"][0] = np.random.randint(low = 0, high = number_of_non_terminal_states, dtype = np.int64) # randomly choose an initial state from all non-terminal states\n",
    "\n",
    "    # Get initial action\n",
    "    episode_log[\"action_index\"][0] = np.random.choice(a = max_number_of_actions, p = behavior_policy[episode_log[\"state_index\"][0], :])\n",
    "\n",
    "    return maximum_episode_length, episode_log"
   ]
  },
  {
   "cell_type": "code",
   "execution_count": 46,
   "metadata": {},
   "outputs": [],
   "source": [
    "# This function selects a policy greedily from the state-action-value function\n",
    "def greedy_policy_from_state_action_function(state_action_value_function, state_index, policy):\n",
    "    # Save max state-action value and find the number of actions that have the same max state-action value\n",
    "    max_action_value = np.max(a = state_action_value_function[state_index, :])\n",
    "    max_action_count = np.count_nonzero(a = state_action_value_function[state_index, :] == max_action_value)\n",
    "    \n",
    "    # Apportion policy probability across ties equally for state-action pairs that have the same value and zero otherwise\n",
    "    max_policy_apportioned_probability_per_action = 1.0 / max_action_count\n",
    "    policy[state_index, :] = np.where(state_action_value_function[state_index, :] == max_action_value, max_policy_apportioned_probability_per_action, 0.0)\n",
    "    \n",
    "    return policy"
   ]
  },
  {
   "cell_type": "code",
   "execution_count": 47,
   "metadata": {},
   "outputs": [],
   "source": [
    "# This function loops through episodes and updates the policy\n",
    "def loop_through_episode(number_of_non_terminal_states, max_number_of_actions, number_of_state_action_successor_states, state_action_successor_state_indices, state_action_successor_state_transition_probabilities, state_action_successor_state_rewards, state_action_value_function, target_policy, behavior_policy, alpha, discounting_factor_gamma, maximum_episode_length, max_timestep, episode_log, n_steps):\n",
    "    # Loop through episode steps until termination\n",
    "    for t in range(0, maximum_episode_length):\n",
    "        # Spend a little memory to save computation time\n",
    "        t_mod_n_plus_1 = t % (n_steps + 1);\n",
    "        t_plus_1_mod_n_plus_1 = (t + 1) % (n_steps + 1);\n",
    "        \n",
    "        if t < max_timestep:\n",
    "            # Get reward\n",
    "            successor_state_transition_index = np.random.choice(a = number_of_state_action_successor_states[episode_log[\"state_index\"][t_mod_n_plus_1], episode_log[\"action_index\"][t_mod_n_plus_1]], p = state_action_successor_state_transition_probabilities[episode_log[\"state_index\"][t_mod_n_plus_1], episode_log[\"action_index\"][t_mod_n_plus_1], :])\n",
    "\n",
    "            episode_log[\"reward\"][t_plus_1_mod_n_plus_1] = state_action_successor_state_rewards[episode_log[\"state_index\"][t_mod_n_plus_1], episode_log[\"action_index\"][t_mod_n_plus_1], successor_state_transition_index]\n",
    "\n",
    "            # Get next state\n",
    "            episode_log[\"state_index\"][t_plus_1_mod_n_plus_1] = state_action_successor_state_indices[episode_log[\"state_index\"][t_mod_n_plus_1], episode_log[\"action_index\"][t_mod_n_plus_1], successor_state_transition_index]\n",
    "\n",
    "            # Check to see if we actioned into a terminal state\n",
    "            if episode_log[\"state_index\"][t_plus_1_mod_n_plus_1] >= number_of_non_terminal_states:\n",
    "                max_timestep = t + 1\n",
    "            else:\n",
    "                # Get next action\n",
    "                episode_log[\"action_index\"][t_plus_1_mod_n_plus_1] = np.random.choice(a = max_number_of_actions, p = behavior_policy[episode_log[\"state_index\"][t_plus_1_mod_n_plus_1], :])\n",
    "                \n",
    "                # Get next sigma\n",
    "                episode_log[\"sigma\"][t_plus_1_mod_n_plus_1] = np.random.choice(a = [0.0, 1.0])\n",
    "\n",
    "                # Get next importance sampling ratio\n",
    "                episode_log[\"importance_sampling_ratio\"][t_plus_1_mod_n_plus_1] = target_policy[episode_log[\"state_index\"][t_plus_1_mod_n_plus_1], episode_log[\"action_index\"][t_plus_1_mod_n_plus_1]] / behavior_policy[episode_log[\"state_index\"][t_plus_1_mod_n_plus_1], episode_log[\"action_index\"][t_plus_1_mod_n_plus_1]] \n",
    "                \n",
    "        tau = t - n_steps + 1 # tau is the time whose estimate is being updated\n",
    "        \n",
    "        if tau >= 0:\n",
    "            expected_return = 0.0\n",
    "            \n",
    "            for k in range(np.min(a = [t + 1, max_timestep]), tau, -1):\n",
    "                if k == max_timestep:\n",
    "                    # Calculate expected return\n",
    "                    expected_return = episode_log[\"reward\"][max_timestep % (n_steps + 1)]\n",
    "                else:\n",
    "                    # Spend a little memory to save computation time\n",
    "                    k_mod_n_plus_1 = k % (n_steps + 1);\n",
    "\n",
    "                    # Calculate expected state value function from target policy\n",
    "                    state_value_function_expected_value_on_policy = np.sum(a = target_policy[episode_log[\"state_index\"][k_mod_n_plus_1], :] * state_action_value_function[episode_log[\"state_index\"][k_mod_n_plus_1], :])\n",
    "\n",
    "                    # Calculate expected return\n",
    "                    expected_return = episode_log[\"reward\"][k_mod_n_plus_1] + discounting_factor_gamma * ((episode_log[\"sigma\"][k_mod_n_plus_1] * episode_log[\"importance_sampling_ratio\"][k_mod_n_plus_1] + (1.0 - episode_log[\"sigma\"][k_mod_n_plus_1]) * target_policy[episode_log[\"state_index\"][k_mod_n_plus_1], episode_log[\"action_index\"][k_mod_n_plus_1]]) * (expected_return - state_action_value_function[episode_log[\"state_index\"][k_mod_n_plus_1], episode_log[\"action_index\"][k_mod_n_plus_1]]) + state_value_function_expected_value_on_policy);\n",
    "            \n",
    "            # Spend a little memory to save computation time\n",
    "            tau_mod_n_plus_1 = tau % (n_steps + 1)\n",
    "\n",
    "            # Calculate state-action-function at tau timestep\n",
    "            state_action_value_function[episode_log[\"state_index\"][tau_mod_n_plus_1], episode_log[\"action_index\"][tau_mod_n_plus_1]] += alpha * (expected_return - state_action_value_function[episode_log[\"state_index\"][tau_mod_n_plus_1], episode_log[\"action_index\"][tau_mod_n_plus_1]])\n",
    "\n",
    "            # Choose policy for chosen state by epsilon-greedy choosing from the state-action-value function\n",
    "            target_policy = greedy_policy_from_state_action_function(state_action_value_function, episode_log[\"state_index\"][tau_mod_n_plus_1], target_policy)\n",
    "\n",
    "        if tau == max_timestep - 1:\n",
    "            break # break episode step loop, move on to next episode\n",
    "\n",
    "    return state_action_value_function, target_policy"
   ]
  },
  {
   "cell_type": "code",
   "execution_count": 48,
   "metadata": {},
   "outputs": [],
   "source": [
    "def off_policy_n_step_bootstrapping_q_sigma(number_of_non_terminal_states, max_number_of_actions, number_of_state_action_successor_states, state_action_successor_state_indices, state_action_successor_state_transition_probabilities, state_action_successor_state_rewards, state_action_value_function, target_policy, behavior_policy, alpha, discounting_factor_gamma, maximum_episode_length, episode_log, n_steps):\n",
    "    for episode in range(0, number_of_episodes):\n",
    "        # Initialize episode to get initial state and action\n",
    "        max_timestep, episode_log = initialize_epsiode(number_of_non_terminal_states, max_number_of_actions, maximum_episode_length, behavior_policy, episode_log)\n",
    "\n",
    "        # Loop through episode and update the policy\n",
    "        state_action_value_function, target_policy = loop_through_episode(number_of_non_terminal_states, max_number_of_actions, number_of_state_action_successor_states, state_action_successor_state_indices, state_action_successor_state_transition_probabilities, state_action_successor_state_rewards, state_action_value_function, target_policy, behavior_policy, alpha, discounting_factor_gamma, maximum_episode_length, max_timestep, episode_log, n_steps)\n",
    "    \n",
    "    return state_action_value_function, target_policy"
   ]
  },
  {
   "cell_type": "markdown",
   "metadata": {},
   "source": [
    "# Run algorithm"
   ]
  },
  {
   "cell_type": "code",
   "execution_count": 49,
   "metadata": {},
   "outputs": [
    {
     "name": "stdout",
     "output_type": "stream",
     "text": [
      "\n",
      "Initial state-action value function\n",
      "[[0. 0. 0. 0.]\n",
      " [0. 0. 0. 0.]\n",
      " [0. 0. 0. 0.]\n",
      " [0. 0. 0. 0.]\n",
      " [0. 0. 0. 0.]\n",
      " [0. 0. 0. 0.]\n",
      " [0. 0. 0. 0.]\n",
      " [0. 0. 0. 0.]\n",
      " [0. 0. 0. 0.]\n",
      " [0. 0. 0. 0.]\n",
      " [0. 0. 0. 0.]\n",
      " [0. 0. 0. 0.]\n",
      " [0. 0. 0. 0.]\n",
      " [0. 0. 0. 0.]\n",
      " [0. 0. 0. 0.]\n",
      " [0. 0. 0. 0.]]\n",
      "\n",
      "Initial target policy\n",
      "[[0.25 0.25 0.25 0.25]\n",
      " [0.25 0.25 0.25 0.25]\n",
      " [0.25 0.25 0.25 0.25]\n",
      " [0.25 0.25 0.25 0.25]\n",
      " [0.25 0.25 0.25 0.25]\n",
      " [0.25 0.25 0.25 0.25]\n",
      " [0.25 0.25 0.25 0.25]\n",
      " [0.25 0.25 0.25 0.25]\n",
      " [0.25 0.25 0.25 0.25]\n",
      " [0.25 0.25 0.25 0.25]\n",
      " [0.25 0.25 0.25 0.25]\n",
      " [0.25 0.25 0.25 0.25]\n",
      " [0.25 0.25 0.25 0.25]\n",
      " [0.25 0.25 0.25 0.25]]\n",
      "\n",
      "Final state-action value function\n",
      "[[-3. -2. -1. -3.]\n",
      " [-4. -3. -2. -4.]\n",
      " [-4. -4. -3. -3.]\n",
      " [-3. -1. -2. -3.]\n",
      " [-4. -2. -2. -4.]\n",
      " [-3. -3. -3. -3.]\n",
      " [-3. -4. -4. -2.]\n",
      " [-4. -2. -3. -4.]\n",
      " [-3. -3. -3. -3.]\n",
      " [-2. -4. -4. -2.]\n",
      " [-2. -3. -3. -1.]\n",
      " [-3. -3. -4. -4.]\n",
      " [-2. -4. -4. -3.]\n",
      " [-1. -3. -3. -2.]\n",
      " [ 0.  0.  0.  0.]\n",
      " [ 0.  0.  0.  0.]]\n",
      "\n",
      "Final target policy\n",
      "[[0.  0.  1.  0. ]\n",
      " [0.  0.  1.  0. ]\n",
      " [0.  0.  0.5 0.5]\n",
      " [0.  1.  0.  0. ]\n",
      " [0.  0.5 0.5 0. ]\n",
      " [0.5 0.5 0.  0. ]\n",
      " [0.  0.  0.  1. ]\n",
      " [0.  1.  0.  0. ]\n",
      " [0.  0.  0.5 0.5]\n",
      " [0.5 0.  0.  0.5]\n",
      " [0.  0.  0.  1. ]\n",
      " [0.5 0.5 0.  0. ]\n",
      " [1.  0.  0.  0. ]\n",
      " [1.  0.  0.  0. ]]\n"
     ]
    }
   ],
   "source": [
    "# Print initial arrays\n",
    "print(\"\\nInitial state-action value function\")\n",
    "print(state_action_value_function)\n",
    "\n",
    "print(\"\\nInitial target policy\")\n",
    "print(target_policy)\n",
    "\n",
    "# Run off policy n-step bootstrapping Q(sigma)\n",
    "state_action_value_function, target_policy = off_policy_n_step_bootstrapping_q_sigma(number_of_non_terminal_states, max_number_of_actions, number_of_state_action_successor_states, state_action_successor_state_indices, state_action_successor_state_transition_probabilities, state_action_successor_state_rewards, state_action_value_function, target_policy, behavior_policy, alpha, discounting_factor_gamma, maximum_episode_length, episode_log, n_steps)\n",
    "\n",
    "# Print final results\n",
    "print(\"\\nFinal state-action value function\")\n",
    "print(state_action_value_function)\n",
    "\n",
    "print(\"\\nFinal target policy\")\n",
    "print(target_policy)"
   ]
  }
 ],
 "metadata": {
  "kernelspec": {
   "display_name": "Python 3",
   "language": "python",
   "name": "python3"
  },
  "language_info": {
   "codemirror_mode": {
    "name": "ipython",
    "version": 3
   },
   "file_extension": ".py",
   "mimetype": "text/x-python",
   "name": "python",
   "nbconvert_exporter": "python",
   "pygments_lexer": "ipython3",
   "version": "3.6.6"
  }
 },
 "nbformat": 4,
 "nbformat_minor": 2
}
