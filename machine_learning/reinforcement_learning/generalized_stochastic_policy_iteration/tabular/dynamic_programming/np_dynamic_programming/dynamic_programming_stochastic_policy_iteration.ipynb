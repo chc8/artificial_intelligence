{
 "cells": [
  {
   "cell_type": "code",
   "execution_count": 514,
   "metadata": {},
   "outputs": [],
   "source": [
    "import numpy as np"
   ]
  },
  {
   "cell_type": "markdown",
   "metadata": {},
   "source": [
    "# Create environment"
   ]
  },
  {
   "cell_type": "code",
   "execution_count": 515,
   "metadata": {},
   "outputs": [],
   "source": [
    "number_of_states = 16\n",
    "number_of_terminal_states = 2\n",
    "number_of_non_terminal_states = number_of_states - number_of_terminal_states"
   ]
  },
  {
   "cell_type": "code",
   "execution_count": 516,
   "metadata": {},
   "outputs": [],
   "source": [
    "max_number_of_actions = 4"
   ]
  },
  {
   "cell_type": "code",
   "execution_count": 517,
   "metadata": {},
   "outputs": [],
   "source": [
    "number_of_actions_per_non_terminal_state = np.repeat(a = max_number_of_actions, repeats = number_of_non_terminal_states)"
   ]
  },
  {
   "cell_type": "code",
   "execution_count": 518,
   "metadata": {},
   "outputs": [],
   "source": [
    "number_of_state_action_successor_states = np.repeat(a = 1, repeats = number_of_states * max_number_of_actions)"
   ]
  },
  {
   "cell_type": "code",
   "execution_count": 519,
   "metadata": {},
   "outputs": [],
   "source": [
    "number_of_state_action_successor_states = np.reshape(a = number_of_state_action_successor_states, newshape = (number_of_states, max_number_of_actions))"
   ]
  },
  {
   "cell_type": "code",
   "execution_count": 520,
   "metadata": {},
   "outputs": [],
   "source": [
    "state_action_successor_state_indices = np.array([1, 0, 14, 4, 2, 1, 0, 5, 2, 2, 1, 6, 4, 14, 3, 7, 5, 0, 3, 8, 6, 1, 4, 9, 6, 2, 5, 10, 8, 3, 7, 11, 9, 4, 7, 12, 10, 5, 8, 13, 10, 6, 9, 15, 12, 7, 11, 11, 13, 8, 11, 12, 15, 9, 12, 13], dtype = np.int64)"
   ]
  },
  {
   "cell_type": "code",
   "execution_count": 521,
   "metadata": {},
   "outputs": [],
   "source": [
    "state_action_successor_state_transition_probabilities = np.repeat(a = 1.0, repeats = number_of_non_terminal_states * max_number_of_actions * 1)"
   ]
  },
  {
   "cell_type": "code",
   "execution_count": 522,
   "metadata": {},
   "outputs": [],
   "source": [
    "state_action_successor_state_rewards = np.repeat(a = -1.0, repeats = number_of_non_terminal_states * max_number_of_actions * 1)"
   ]
  },
  {
   "cell_type": "code",
   "execution_count": 523,
   "metadata": {},
   "outputs": [],
   "source": [
    "state_action_successor_state_indices = np.reshape(a = state_action_successor_state_indices, newshape = (number_of_non_terminal_states, max_number_of_actions, 1))\n",
    "state_action_successor_state_transition_probabilities = np.reshape(a = state_action_successor_state_transition_probabilities, newshape = (number_of_non_terminal_states, max_number_of_actions, 1))\n",
    "state_action_successor_state_rewards = np.reshape(a = state_action_successor_state_rewards, newshape = (number_of_non_terminal_states, max_number_of_actions, 1))"
   ]
  },
  {
   "cell_type": "markdown",
   "metadata": {},
   "source": [
    "# Create value function and policy arrays"
   ]
  },
  {
   "cell_type": "code",
   "execution_count": 524,
   "metadata": {},
   "outputs": [],
   "source": [
    "state_value_function = np.zeros(shape = number_of_states, dtype = np.float64)\n",
    "state_action_value_function = np.zeros(shape = (number_of_non_terminal_states, max_number_of_actions), dtype = np.float64)"
   ]
  },
  {
   "cell_type": "code",
   "execution_count": 525,
   "metadata": {},
   "outputs": [],
   "source": [
    "policy = np.repeat(a = 1.0 / max_number_of_actions, repeats = number_of_non_terminal_states * max_number_of_actions)"
   ]
  },
  {
   "cell_type": "code",
   "execution_count": 526,
   "metadata": {},
   "outputs": [],
   "source": [
    "policy = np.reshape(a = policy, newshape = (number_of_non_terminal_states, max_number_of_actions))"
   ]
  },
  {
   "cell_type": "markdown",
   "metadata": {},
   "source": [
    "# Set hyperparameters"
   ]
  },
  {
   "cell_type": "code",
   "execution_count": 527,
   "metadata": {},
   "outputs": [],
   "source": [
    "discounting_factor_gamma = 1.0\n",
    "convergence_threshold = 0.001\n",
    "maximum_number_of_sweeps = 30\n",
    "maximum_number_of_policy_evaluations = 20"
   ]
  },
  {
   "cell_type": "markdown",
   "metadata": {},
   "source": [
    "# Create algorithm"
   ]
  },
  {
   "cell_type": "code",
   "execution_count": 528,
   "metadata": {},
   "outputs": [],
   "source": [
    "# This function evaluates the value functions given the current policy\n",
    "def policy_evaluation(number_of_non_terminal_states, state_action_successor_state_indices, state_action_successor_state_transition_probabilities, state_action_successor_state_rewards, policy, convergence_threshold, discounting_factor_gamma, maximum_number_of_policy_evaluations, state_value_function, state_action_value_function):\n",
    "    delta = np.finfo(np.float64).max\n",
    "    number_of_policy_evaluations = 0\n",
    "\n",
    "    while delta >= convergence_threshold and number_of_policy_evaluations < maximum_number_of_policy_evaluations:\n",
    "        for i in range(0, number_of_non_terminal_states):\n",
    "            # Cache state-value function for state i\n",
    "            temp_state_value_function = state_value_function[i]\n",
    "\n",
    "            # Update state-action value function based on successor states, transition probabilities, and rewards\n",
    "            state_action_value_function[i, :] = np.squeeze(a = np.where(state_action_successor_state_indices[i, :, :] == i, state_action_successor_state_transition_probabilities[i, :, :] * (state_action_successor_state_rewards[i, :, :] + discounting_factor_gamma * temp_state_value_function), state_action_successor_state_transition_probabilities[i, :, :] * (state_action_successor_state_rewards[i, :, :] + discounting_factor_gamma * state_value_function[state_action_successor_state_indices[i, :, :]])), axis = 1)\n",
    "            \n",
    "            # Update state value function based on current policy\n",
    "            state_value_function[i] = np.sum(a = policy[i, :] * state_action_value_function[i, :])\n",
    "\n",
    "            # Update delta for convergence criteria to break while loop and update policy\n",
    "            delta = np.max(a = (delta, np.abs(temp_state_value_function - state_value_function[i])))\n",
    "            \n",
    "        number_of_policy_evaluations += 1\n",
    "        \n",
    "    return state_value_function, state_action_value_function"
   ]
  },
  {
   "cell_type": "code",
   "execution_count": 529,
   "metadata": {},
   "outputs": [],
   "source": [
    "# This function greedily updates the policy based on the current value function\n",
    "def policy_improvement(number_of_non_terminal_states, state_action_successor_state_indices, state_action_successor_state_transition_probabilities, state_action_successor_state_rewards, policy, old_policy, discounting_factor_gamma, state_value_function):\n",
    "    for i in range(0, number_of_non_terminal_states):\n",
    "        # Cache policy for comparison later\n",
    "        old_policy = np.copy(a = policy[i, :])\n",
    "\n",
    "        # Update policy greedily from state-value function\n",
    "        policy[i, :] = np.squeeze(a = state_action_successor_state_transition_probabilities[i, :, :] * (state_action_successor_state_rewards[i, :, :] + discounting_factor_gamma * state_value_function[state_action_successor_state_indices[i, :, :]]), axis = 1)\n",
    "\n",
    "        # Save max policy value and find the number of actions that have the same max policy value\n",
    "        max_policy_value = np.max(a = policy[i, :])\n",
    "        max_policy_count = np.count_nonzero(a = policy[i, :] == max_policy_value)\n",
    "            \n",
    "        # Apportion policy probability across ties equally for state-action pairs that have the same value and zero otherwise\n",
    "        policy[i, :] = np.where(policy[i, :] == max_policy_value, 1.0 / max_policy_count, 0.0)\n",
    "        \n",
    "        # If policy has changed from old policy\n",
    "        policy_stable = np.array_equal(policy[i, :], old_policy)\n",
    "\n",
    "    return policy_stable, policy"
   ]
  },
  {
   "cell_type": "code",
   "execution_count": 530,
   "metadata": {},
   "outputs": [],
   "source": [
    "def policy_iteration(number_of_non_terminal_states, state_action_successor_state_indices, state_action_successor_state_transition_probabilities, state_action_successor_state_rewards, policy, old_policy, convergence_threshold, discounting_factor_gamma, maximum_number_of_policy_evaluations, state_value_function, state_action_value_function, maximum_number_of_sweeps):\n",
    "    policy_stable = False\n",
    "    number_of_sweeps = 0\n",
    "    \n",
    "    while policy_stable == False and number_of_sweeps < maximum_number_of_sweeps:\n",
    "        print(\"State value function before sweep {}\".format(number_of_sweeps))\n",
    "        print(state_value_function)\n",
    "        print(\"\\n\")\n",
    "\n",
    "        print(\"State-action value function before sweep {}\".format(number_of_sweeps))\n",
    "        print(state_action_value_function)\n",
    "        print(\"\\n\")\n",
    "\n",
    "        print(\"Policy before sweep {}\".format(number_of_sweeps))\n",
    "        print(policy)\n",
    "        print(\"\\n\")\n",
    "\n",
    "        # Policy evaluation\n",
    "        state_value_function, state_action_value_function = policy_evaluation(number_of_non_terminal_states, state_action_successor_state_indices, state_action_successor_state_transition_probabilities, state_action_successor_state_rewards, policy, convergence_threshold, discounting_factor_gamma, maximum_number_of_policy_evaluations, state_value_function, state_action_value_function)\n",
    "\n",
    "        # Policy improvement\n",
    "        policy_stable, policy = policy_improvement(number_of_non_terminal_states, state_action_successor_state_indices, state_action_successor_state_transition_probabilities, state_action_successor_state_rewards, policy, old_policy, discounting_factor_gamma, state_value_function)\n",
    "\n",
    "        print(\"policy_stable = {} at sweep {}\\n\".format(policy_stable, number_of_sweeps))\n",
    "\n",
    "        number_of_sweeps += 1\n",
    "        \n",
    "    return state_value_function, state_action_value_function, policy"
   ]
  },
  {
   "cell_type": "markdown",
   "metadata": {},
   "source": [
    "# Run algorithm"
   ]
  },
  {
   "cell_type": "code",
   "execution_count": 531,
   "metadata": {},
   "outputs": [
    {
     "name": "stdout",
     "output_type": "stream",
     "text": [
      "State value function before sweep 0\n",
      "[0. 0. 0. 0. 0. 0. 0. 0. 0. 0. 0. 0. 0. 0. 0. 0.]\n",
      "\n",
      "\n",
      "State-action value function before sweep 0\n",
      "[[0. 0. 0. 0.]\n",
      " [0. 0. 0. 0.]\n",
      " [0. 0. 0. 0.]\n",
      " [0. 0. 0. 0.]\n",
      " [0. 0. 0. 0.]\n",
      " [0. 0. 0. 0.]\n",
      " [0. 0. 0. 0.]\n",
      " [0. 0. 0. 0.]\n",
      " [0. 0. 0. 0.]\n",
      " [0. 0. 0. 0.]\n",
      " [0. 0. 0. 0.]\n",
      " [0. 0. 0. 0.]\n",
      " [0. 0. 0. 0.]\n",
      " [0. 0. 0. 0.]]\n",
      "\n",
      "\n",
      "Policy before sweep 0\n",
      "[[0.25 0.25 0.25 0.25]\n",
      " [0.25 0.25 0.25 0.25]\n",
      " [0.25 0.25 0.25 0.25]\n",
      " [0.25 0.25 0.25 0.25]\n",
      " [0.25 0.25 0.25 0.25]\n",
      " [0.25 0.25 0.25 0.25]\n",
      " [0.25 0.25 0.25 0.25]\n",
      " [0.25 0.25 0.25 0.25]\n",
      " [0.25 0.25 0.25 0.25]\n",
      " [0.25 0.25 0.25 0.25]\n",
      " [0.25 0.25 0.25 0.25]\n",
      " [0.25 0.25 0.25 0.25]\n",
      " [0.25 0.25 0.25 0.25]\n",
      " [0.25 0.25 0.25 0.25]]\n",
      "\n",
      "\n",
      "policy_stable = False at sweep 0\n",
      "\n",
      "State value function before sweep 1\n",
      "[-11.42591538 -16.29940807 -17.92681232 -11.42591538 -14.84125831\n",
      " -16.57033147 -16.60954761 -16.29940807 -16.57033147 -15.10598674\n",
      " -11.83929409 -17.92681232 -16.60954761 -11.83929409   0.\n",
      "   0.        ]\n",
      "\n",
      "\n",
      "State-action value function before sweep 1\n",
      "[[-16.96089737 -12.1904522   -1.         -15.55231196]\n",
      " [-18.55421829 -16.96089737 -12.42591538 -17.25660123]\n",
      " [-18.55421829 -18.55421829 -17.29940807 -17.29940463]\n",
      " [-15.55231196  -1.         -12.1904522  -16.96089737]\n",
      " [-17.25660123 -12.42591538 -12.42591538 -17.25660123]\n",
      " [-17.29940463 -17.29940807 -15.84125831 -15.84125487]\n",
      " [-17.29940463 -18.92681232 -17.57033147 -12.64164201]\n",
      " [-17.25660123 -12.42591538 -16.96089737 -18.55421829]\n",
      " [-15.84125487 -15.84125831 -17.29940807 -17.29940463]\n",
      " [-12.64164201 -17.57033147 -17.57033147 -12.64164201]\n",
      " [-12.64164201 -17.60954761 -16.10598674  -1.        ]\n",
      " [-17.29940463 -17.29940807 -18.55421829 -18.55421829]\n",
      " [-12.64164201 -17.57033147 -18.92681232 -17.29940463]\n",
      " [ -1.         -16.10598674 -17.60954761 -12.64164201]]\n",
      "\n",
      "\n",
      "Policy before sweep 1\n",
      "[[0. 0. 1. 0.]\n",
      " [0. 0. 1. 0.]\n",
      " [0. 0. 1. 0.]\n",
      " [0. 1. 0. 0.]\n",
      " [0. 1. 0. 0.]\n",
      " [0. 0. 1. 0.]\n",
      " [0. 0. 0. 1.]\n",
      " [0. 1. 0. 0.]\n",
      " [0. 1. 0. 0.]\n",
      " [1. 0. 0. 0.]\n",
      " [0. 0. 0. 1.]\n",
      " [0. 1. 0. 0.]\n",
      " [1. 0. 0. 0.]\n",
      " [1. 0. 0. 0.]]\n",
      "\n",
      "\n",
      "policy_stable = True at sweep 1\n",
      "\n",
      "\n",
      "Final state value function\n",
      "[-1. -2. -3. -1. -2. -3. -2. -2. -3. -2. -1. -3. -2. -1.  0.  0.]\n",
      "\n",
      "Final state-action value function\n",
      "[[-3. -2. -1. -3.]\n",
      " [-4. -3. -2. -4.]\n",
      " [-4. -4. -3. -3.]\n",
      " [-3. -1. -2. -3.]\n",
      " [-4. -2. -2. -4.]\n",
      " [-3. -3. -3. -3.]\n",
      " [-3. -4. -4. -2.]\n",
      " [-4. -2. -3. -4.]\n",
      " [-3. -3. -3. -3.]\n",
      " [-2. -4. -4. -2.]\n",
      " [-2. -3. -3. -1.]\n",
      " [-3. -3. -4. -4.]\n",
      " [-2. -4. -4. -3.]\n",
      " [-1. -3. -3. -2.]]\n",
      "\n",
      "Final policy\n",
      "[[0.   0.   1.   0.  ]\n",
      " [0.   0.   1.   0.  ]\n",
      " [0.   0.   0.5  0.5 ]\n",
      " [0.   1.   0.   0.  ]\n",
      " [0.   0.5  0.5  0.  ]\n",
      " [0.25 0.25 0.25 0.25]\n",
      " [0.   0.   0.   1.  ]\n",
      " [0.   1.   0.   0.  ]\n",
      " [0.25 0.25 0.25 0.25]\n",
      " [0.5  0.   0.   0.5 ]\n",
      " [0.   0.   0.   1.  ]\n",
      " [0.5  0.5  0.   0.  ]\n",
      " [1.   0.   0.   0.  ]\n",
      " [1.   0.   0.   0.  ]]\n"
     ]
    }
   ],
   "source": [
    "# Run policy iteration\n",
    "state_value_function, state_action_value_function, policy = policy_iteration(number_of_non_terminal_states, state_action_successor_state_indices, state_action_successor_state_transition_probabilities, state_action_successor_state_rewards, policy, old_policy, convergence_threshold, discounting_factor_gamma, maximum_number_of_policy_evaluations, state_value_function, state_action_value_function, maximum_number_of_sweeps)\n",
    "\n",
    "# Print final results\n",
    "print(\"\\nFinal state value function\")\n",
    "print(state_value_function)\n",
    "print(\"\\nFinal state-action value function\")\n",
    "print(state_action_value_function)\n",
    "print(\"\\nFinal policy\")\n",
    "print(policy)"
   ]
  },
  {
   "cell_type": "code",
   "execution_count": null,
   "metadata": {},
   "outputs": [],
   "source": []
  }
 ],
 "metadata": {
  "kernelspec": {
   "display_name": "Python 3",
   "language": "python",
   "name": "python3"
  },
  "language_info": {
   "codemirror_mode": {
    "name": "ipython",
    "version": 3
   },
   "file_extension": ".py",
   "mimetype": "text/x-python",
   "name": "python",
   "nbconvert_exporter": "python",
   "pygments_lexer": "ipython3",
   "version": "3.7.0"
  }
 },
 "nbformat": 4,
 "nbformat_minor": 2
}
