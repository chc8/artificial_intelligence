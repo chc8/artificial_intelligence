{
 "cells": [
  {
   "cell_type": "code",
   "execution_count": 671,
   "metadata": {},
   "outputs": [],
   "source": [
    "import numpy as np"
   ]
  },
  {
   "cell_type": "markdown",
   "metadata": {},
   "source": [
    "# Create environment"
   ]
  },
  {
   "cell_type": "code",
   "execution_count": 672,
   "metadata": {},
   "outputs": [],
   "source": [
    "number_of_states = 16\n",
    "number_of_terminal_states = 2\n",
    "number_of_non_terminal_states = number_of_states - number_of_terminal_states"
   ]
  },
  {
   "cell_type": "code",
   "execution_count": 673,
   "metadata": {},
   "outputs": [],
   "source": [
    "max_number_of_actions = 4"
   ]
  },
  {
   "cell_type": "code",
   "execution_count": 674,
   "metadata": {},
   "outputs": [],
   "source": [
    "number_of_actions_per_non_terminal_state = np.repeat(a = max_number_of_actions, repeats = number_of_non_terminal_states)"
   ]
  },
  {
   "cell_type": "code",
   "execution_count": 675,
   "metadata": {},
   "outputs": [],
   "source": [
    "number_of_state_action_successor_states = np.repeat(a = 1, repeats = number_of_states * max_number_of_actions)"
   ]
  },
  {
   "cell_type": "code",
   "execution_count": 676,
   "metadata": {},
   "outputs": [],
   "source": [
    "number_of_state_action_successor_states = np.reshape(a = number_of_state_action_successor_states, newshape = (number_of_states, max_number_of_actions))"
   ]
  },
  {
   "cell_type": "code",
   "execution_count": 677,
   "metadata": {},
   "outputs": [],
   "source": [
    "state_action_successor_state_indices = np.array([1, 0, 14, 4, 2, 1, 0, 5, 2, 2, 1, 6, 4, 14, 3, 7, 5, 0, 3, 8, 6, 1, 4, 9, 6, 2, 5, 10, 8, 3, 7, 11, 9, 4, 7, 12, 10, 5, 8, 13, 10, 6, 9, 15, 12, 7, 11, 11, 13, 8, 11, 12, 15, 9, 12, 13], dtype = np.int64)"
   ]
  },
  {
   "cell_type": "code",
   "execution_count": 678,
   "metadata": {},
   "outputs": [],
   "source": [
    "state_action_successor_state_transition_probabilities = np.repeat(a = 1.0, repeats = number_of_non_terminal_states * max_number_of_actions * 1)"
   ]
  },
  {
   "cell_type": "code",
   "execution_count": 679,
   "metadata": {},
   "outputs": [],
   "source": [
    "state_action_successor_state_rewards = np.repeat(a = -1.0, repeats = number_of_non_terminal_states * max_number_of_actions * 1)"
   ]
  },
  {
   "cell_type": "code",
   "execution_count": 680,
   "metadata": {},
   "outputs": [],
   "source": [
    "state_action_successor_state_indices = np.reshape(a = state_action_successor_state_indices, newshape = (number_of_non_terminal_states, max_number_of_actions, 1))\n",
    "state_action_successor_state_transition_probabilities = np.reshape(a = state_action_successor_state_transition_probabilities, newshape = (number_of_non_terminal_states, max_number_of_actions, 1))\n",
    "state_action_successor_state_rewards = np.reshape(a = state_action_successor_state_rewards, newshape = (number_of_non_terminal_states, max_number_of_actions, 1))"
   ]
  },
  {
   "cell_type": "markdown",
   "metadata": {},
   "source": [
    "# Set hyperparameters"
   ]
  },
  {
   "cell_type": "code",
   "execution_count": 681,
   "metadata": {},
   "outputs": [],
   "source": [
    "number_of_episodes = 10000\n",
    "maximum_episode_length = 200\n",
    "discounting_factor_gamma = 1.0"
   ]
  },
  {
   "cell_type": "markdown",
   "metadata": {},
   "source": [
    "# Create value function and policy arrays"
   ]
  },
  {
   "cell_type": "code",
   "execution_count": 682,
   "metadata": {},
   "outputs": [],
   "source": [
    "# Create epsiode log\n",
    "episode_log = {\"state_index\": np.repeat(a = -1, repeats = maximum_episode_length), \n",
    "               \"action_index\": np.repeat(a = -1, repeats = maximum_episode_length), \n",
    "               \"reward\": np.repeat(a = 0.0, repeats = maximum_episode_length)}"
   ]
  },
  {
   "cell_type": "code",
   "execution_count": 683,
   "metadata": {},
   "outputs": [],
   "source": [
    "# Get minimum reward since GLIE MC can have some problems based on value funciton intialization\n",
    "minimum_reward = np.min(state_action_successor_state_rewards)\n",
    "\n",
    "if minimum_reward < 0:\n",
    "    state_action_value_function_initializer = 2.0 * minimum_reward\n",
    "else:\n",
    "    state_action_value_function_initializer = 0.0"
   ]
  },
  {
   "cell_type": "code",
   "execution_count": 684,
   "metadata": {},
   "outputs": [],
   "source": [
    "state_action_value_function = np.repeat(a = state_action_value_function_initializer, repeats = number_of_states * max_number_of_actions)\n",
    "state_action_value_function = np.reshape(a = state_action_value_function, newshape = (number_of_states, max_number_of_actions))"
   ]
  },
  {
   "cell_type": "code",
   "execution_count": 685,
   "metadata": {},
   "outputs": [],
   "source": [
    "weights_cumulative_sum = np.zeros(shape = (number_of_states, max_number_of_actions), dtype = np.float64)"
   ]
  },
  {
   "cell_type": "code",
   "execution_count": 686,
   "metadata": {},
   "outputs": [],
   "source": [
    "target_policy = np.repeat(a = 1.0 / max_number_of_actions, repeats = number_of_non_terminal_states * max_number_of_actions)\n",
    "target_policy = np.reshape(a = target_policy, newshape = (number_of_non_terminal_states, max_number_of_actions))"
   ]
  },
  {
   "cell_type": "code",
   "execution_count": 687,
   "metadata": {},
   "outputs": [],
   "source": [
    "behavior_policy = np.repeat(a = 1.0 / max_number_of_actions, repeats = number_of_non_terminal_states * max_number_of_actions)\n",
    "behavior_policy = np.reshape(a = behavior_policy, newshape = (number_of_non_terminal_states, max_number_of_actions))"
   ]
  },
  {
   "cell_type": "markdown",
   "metadata": {},
   "source": [
    "# Create algorithm"
   ]
  },
  {
   "cell_type": "code",
   "execution_count": 688,
   "metadata": {},
   "outputs": [],
   "source": [
    "# Set random seed so that everything is reproducible\n",
    "np.random.seed(seed = 0)"
   ]
  },
  {
   "cell_type": "code",
   "execution_count": 689,
   "metadata": {},
   "outputs": [],
   "source": [
    "# This function generates episodes\n",
    "def generate_epsiode(number_of_non_terminal_states, max_number_of_actions, number_of_state_action_successor_states, state_action_successor_state_indices, state_action_successor_state_transition_probabilities, state_action_successor_state_rewards, maximum_episode_length, behavior_policy, episode_log):\n",
    "    step_count = 0\n",
    "    \n",
    "    # Initial state\n",
    "    state_index = np.random.randint(low = 0, high = number_of_non_terminal_states, dtype = np.int64)\n",
    "\n",
    "    # Now repeat\n",
    "    while step_count < maximum_episode_length:\n",
    "        # Get state\n",
    "        episode_log[\"state_index\"][step_count] = state_index\n",
    "        \n",
    "        # Get action\n",
    "        action_index = np.random.choice(a = max_number_of_actions, p = behavior_policy[state_index, :])\n",
    "        episode_log[\"action_index\"][step_count] = action_index\n",
    "        \n",
    "        # Get reward\n",
    "        successor_state_transition_index = np.random.choice(a = number_of_state_action_successor_states[state_index, action_index], p = state_action_successor_state_transition_probabilities[state_index, action_index, :])\n",
    "\n",
    "        episode_log[\"reward\"][step_count] = state_action_successor_state_rewards[state_index, action_index, successor_state_transition_index]\n",
    "\n",
    "        # Get next state\n",
    "        state_index = state_action_successor_state_indices[state_index, action_index, successor_state_transition_index]\n",
    "        \n",
    "        # Increment step count\n",
    "        step_count += 1\n",
    "\n",
    "        # Check to see if we actioned into a terminal state\n",
    "        if state_index >= number_of_non_terminal_states:\n",
    "            break # episode terminated since we ended up in a terminal state\n",
    "\n",
    "    return step_count, episode_log"
   ]
  },
  {
   "cell_type": "code",
   "execution_count": 690,
   "metadata": {},
   "outputs": [],
   "source": [
    "# This function selects a policy greedily from the state-action-value function\n",
    "def greedy_policy_from_state_action_function(state_action_value_function, state_index, policy):\n",
    "    # Save max state-action value and find the number of actions that have the same max state-action value\n",
    "    max_action_value = np.max(a = state_action_value_function[state_index, :])\n",
    "    max_action_count = np.count_nonzero(a = state_action_value_function[state_index, :] == max_action_value)\n",
    "    \n",
    "    # Apportion policy probability across ties equally for state-action pairs that have the same value and zero otherwise\n",
    "    max_policy_apportioned_probability_per_action = 1.0 / max_action_count\n",
    "    policy[state_index, :] = np.where(state_action_value_function[state_index, :] == max_action_value, max_policy_apportioned_probability_per_action, 0.0)\n",
    "    \n",
    "    return max_policy_apportioned_probability_per_action, policy"
   ]
  },
  {
   "cell_type": "code",
   "execution_count": 691,
   "metadata": {},
   "outputs": [],
   "source": [
    "# This function loops through episodes in reverse order and updates the target policy\n",
    "def loop_through_episode_in_reverse(number_of_non_terminal_states, max_number_of_actions, state_action_value_function, weights_cumulative_sum, target_policy, behavior_policy, discounting_factor_gamma, episode_log, episode_length):\n",
    "    expected_return = 0.0\n",
    "    weight = 1.0\n",
    "    \n",
    "    # Loop through episode steps in reverse order\n",
    "    for t in range(episode_length - 1, -1, -1):\n",
    "        state_index = episode_log[\"state_index\"][t]\n",
    "        action_index = episode_log[\"action_index\"][t]\n",
    "        \n",
    "        # Calculate expected return\n",
    "        expected_return = discounting_factor_gamma * expected_return + episode_log[\"reward\"][t]\n",
    "\n",
    "        # Keep track of weight so that we can incrementally calculate average\n",
    "        weights_cumulative_sum[state_index, action_index] += weight\n",
    "\n",
    "        # Update state-action value function\n",
    "        state_action_value_function[state_index, action_index] += weight / weights_cumulative_sum[state_index, action_index] * (expected_return - state_action_value_function[state_index, action_index])\n",
    "\n",
    "        # Choose policy for chosen state by greedily choosing from the state-action-value function\n",
    "        max_policy_apportioned_probability_per_action, target_policy = greedy_policy_from_state_action_function(state_action_value_function, state_index, target_policy)\n",
    "\n",
    "        # Check to see if behavior action from episode is the same as target action\n",
    "        if target_policy[state_index, action_index] != max_policy_apportioned_probability_per_action:\n",
    "            break # break episode step loop, move on to next episode\n",
    "\n",
    "        # Update weight based on behavior policy\n",
    "        weight /= behavior_policy[state_index, action_index];\n",
    "\n",
    "    return state_action_value_function, target_policy, weights_cumulative_sum"
   ]
  },
  {
   "cell_type": "code",
   "execution_count": 692,
   "metadata": {},
   "outputs": [],
   "source": [
    "def off_policy_monte_carlo_control(number_of_non_terminal_states, max_number_of_actions, state_action_value_function, weights_cumulative_sum, target_policy, behavior_policy, discounting_factor_gamma, episode_log, episode_length):\n",
    "    for episode in range(0, number_of_episodes):\n",
    "        # Generate episode and get the length\n",
    "        episode_length, episode_log = generate_epsiode(number_of_non_terminal_states, max_number_of_actions, number_of_state_action_successor_states, state_action_successor_state_indices, state_action_successor_state_transition_probabilities, state_action_successor_state_rewards, maximum_episode_length, behavior_policy, episode_log)\n",
    "\n",
    "        # Loop through episode in reverse order and update the target policy\n",
    "        state_action_value_function, target_policy, weights_cumulative_sum = loop_through_episode_in_reverse(number_of_non_terminal_states, max_number_of_actions, state_action_value_function, weights_cumulative_sum, target_policy, behavior_policy, discounting_factor_gamma, episode_log, episode_length)\n",
    "    \n",
    "    return state_action_value_function, target_policy"
   ]
  },
  {
   "cell_type": "markdown",
   "metadata": {},
   "source": [
    "# Run algorithm"
   ]
  },
  {
   "cell_type": "code",
   "execution_count": 693,
   "metadata": {},
   "outputs": [
    {
     "name": "stdout",
     "output_type": "stream",
     "text": [
      "\n",
      "Initial state-action value function\n",
      "[[-2. -2. -2. -2.]\n",
      " [-2. -2. -2. -2.]\n",
      " [-2. -2. -2. -2.]\n",
      " [-2. -2. -2. -2.]\n",
      " [-2. -2. -2. -2.]\n",
      " [-2. -2. -2. -2.]\n",
      " [-2. -2. -2. -2.]\n",
      " [-2. -2. -2. -2.]\n",
      " [-2. -2. -2. -2.]\n",
      " [-2. -2. -2. -2.]\n",
      " [-2. -2. -2. -2.]\n",
      " [-2. -2. -2. -2.]\n",
      " [-2. -2. -2. -2.]\n",
      " [-2. -2. -2. -2.]\n",
      " [-2. -2. -2. -2.]\n",
      " [-2. -2. -2. -2.]]\n",
      "\n",
      "Initial policy\n",
      "[[0.25 0.25 0.25 0.25]\n",
      " [0.25 0.25 0.25 0.25]\n",
      " [0.25 0.25 0.25 0.25]\n",
      " [0.25 0.25 0.25 0.25]\n",
      " [0.25 0.25 0.25 0.25]\n",
      " [0.25 0.25 0.25 0.25]\n",
      " [0.25 0.25 0.25 0.25]\n",
      " [0.25 0.25 0.25 0.25]\n",
      " [0.25 0.25 0.25 0.25]\n",
      " [0.25 0.25 0.25 0.25]\n",
      " [0.25 0.25 0.25 0.25]\n",
      " [0.25 0.25 0.25 0.25]\n",
      " [0.25 0.25 0.25 0.25]\n",
      " [0.25 0.25 0.25 0.25]]\n",
      "\n",
      "Final state-action value function\n",
      "[[-3. -2. -1. -3.]\n",
      " [-2. -3. -2. -4.]\n",
      " [-2. -2. -3. -3.]\n",
      " [-3. -1. -2. -3.]\n",
      " [-4. -2. -2. -4.]\n",
      " [-3. -3. -3. -3.]\n",
      " [-3. -2. -4. -2.]\n",
      " [-4. -2. -3. -2.]\n",
      " [-3. -3. -3. -3.]\n",
      " [-2. -4. -4. -2.]\n",
      " [-2. -3. -3. -1.]\n",
      " [-3. -3. -2. -2.]\n",
      " [-2. -4. -2. -3.]\n",
      " [-1. -3. -3. -2.]\n",
      " [-2. -2. -2. -2.]\n",
      " [-2. -2. -2. -2.]]\n",
      "\n",
      "Final policy\n",
      "[[0.   0.   1.   0.  ]\n",
      " [0.5  0.   0.5  0.  ]\n",
      " [0.5  0.5  0.   0.  ]\n",
      " [0.   1.   0.   0.  ]\n",
      " [0.   0.5  0.5  0.  ]\n",
      " [0.25 0.25 0.25 0.25]\n",
      " [0.   0.5  0.   0.5 ]\n",
      " [0.   0.5  0.   0.5 ]\n",
      " [0.25 0.25 0.25 0.25]\n",
      " [0.5  0.   0.   0.5 ]\n",
      " [0.   0.   0.   1.  ]\n",
      " [0.   0.   0.5  0.5 ]\n",
      " [0.5  0.   0.5  0.  ]\n",
      " [1.   0.   0.   0.  ]]\n"
     ]
    }
   ],
   "source": [
    "# Print initial arrays\n",
    "print(\"\\nInitial state-action value function\")\n",
    "print(state_action_value_function)\n",
    "\n",
    "print(\"\\nInitial policy\")\n",
    "print(target_policy)\n",
    "\n",
    "# Run off policy monte carlo control\n",
    "state_action_value_function, target_policy = off_policy_monte_carlo_control(number_of_non_terminal_states, max_number_of_actions, state_action_value_function, weights_cumulative_sum, target_policy, behavior_policy, discounting_factor_gamma, episode_log, episode_length)\n",
    "\n",
    "# Print final results\n",
    "print(\"\\nFinal state-action value function\")\n",
    "print(state_action_value_function)\n",
    "print(\"\\nFinal policy\")\n",
    "print(target_policy)"
   ]
  },
  {
   "cell_type": "code",
   "execution_count": null,
   "metadata": {},
   "outputs": [],
   "source": []
  }
 ],
 "metadata": {
  "kernelspec": {
   "display_name": "Python 3",
   "language": "python",
   "name": "python3"
  },
  "language_info": {
   "codemirror_mode": {
    "name": "ipython",
    "version": 3
   },
   "file_extension": ".py",
   "mimetype": "text/x-python",
   "name": "python",
   "nbconvert_exporter": "python",
   "pygments_lexer": "ipython3",
   "version": "3.6.6"
  }
 },
 "nbformat": 4,
 "nbformat_minor": 2
}
